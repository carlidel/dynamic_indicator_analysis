{
 "cells": [
  {
   "cell_type": "markdown",
   "id": "popular-particle",
   "metadata": {},
   "source": [
    "# Generic analysis with dynamic indicators and stability time"
   ]
  },
  {
   "cell_type": "markdown",
   "id": "oriented-better",
   "metadata": {},
   "source": [
    "### Execute this cell for better plots"
   ]
  },
  {
   "cell_type": "code",
   "execution_count": 2,
   "id": "worthy-chester",
   "metadata": {},
   "outputs": [],
   "source": [
    "%matplotlib widget"
   ]
  },
  {
   "cell_type": "markdown",
   "id": "valued-station",
   "metadata": {},
   "source": [
    "### Libraries"
   ]
  },
  {
   "cell_type": "code",
   "execution_count": 32,
   "id": "lonely-footage",
   "metadata": {},
   "outputs": [],
   "source": [
    "import numpy as np\n",
    "import h5py\n",
    "import matplotlib.pyplot as plt\n",
    "import os\n",
    "from tqdm.autonotebook import tqdm\n",
    "from numba import njit, prange\n",
    "\n",
    "DPI = 300"
   ]
  },
  {
   "cell_type": "markdown",
   "id": "secondary-clearing",
   "metadata": {},
   "source": [
    "## Directories (local computer)"
   ]
  },
  {
   "cell_type": "code",
   "execution_count": 33,
   "id": "wicked-jimmy",
   "metadata": {},
   "outputs": [],
   "source": [
    "outdir = \"../data\"\n",
    "inputdir = \"../data\"\n",
    "imgdir = \"../img\""
   ]
  },
  {
   "cell_type": "markdown",
   "id": "greenhouse-career",
   "metadata": {},
   "source": [
    "## Directories (SWAN instance + CERNBox file system)"
   ]
  },
  {
   "cell_type": "code",
   "execution_count": 34,
   "id": "interior-bridges",
   "metadata": {},
   "outputs": [],
   "source": [
    "outdir = \"../data\"\n",
    "inputdir = \"../data\"\n",
    "imgdir = \"../img\""
   ]
  },
  {
   "cell_type": "markdown",
   "id": "reliable-dynamics",
   "metadata": {},
   "source": [
    "## Data Filename list"
   ]
  },
  {
   "cell_type": "code",
   "execution_count": 35,
   "id": "geographic-credit",
   "metadata": {},
   "outputs": [],
   "source": [
    "init_file = \"henon_4d_init_eps_0_0_mu_0_0_id_basic_view.hdf5\"\n",
    "\n",
    "displacement_file = \"henon_4d_displacement_eps_0_0_mu_0_0_id_basic_view_subid_1e-14.hdf5\"\n",
    "inversion_file = \"henon_4d_inverse_tracking_eps_0_0_mu_0_0_id_basic_view_subid_no_kick.hdf5\"\n",
    "inversion_gauss_file = \"henon_4d_inverse_tracking_eps_0_0_mu_0_0_id_basic_view_subid_gauss_kick.hdf5\"\n",
    "inversion_uniform_file = \"henon_4d_inverse_tracking_eps_0_0_mu_0_0_id_basic_view_subid_unif_kick.hdf5\"\n",
    "inversion_gauss_forward_file = \"henon_4d_inverse_tracking_eps_0_0_mu_0_0_id_basic_view_subid_gauss_kick_forward.hdf5\"\n",
    "inversion_uniform_forward_file = \"henon_4d_inverse_tracking_eps_0_0_mu_0_0_id_basic_view_subid_unif_kick_forward.hdf5\"\n",
    "tracking_file = \"henon_4d_long_track_eps_0_0_mu_0_0_id_basic_view.hdf5\"\n",
    "orto_displacement_file = \"henon_4d_orto_displacement_eps_0_0_mu_0_0_id_basic_view_subid_1e-14.hdf5\"\n",
    "full_track_file = \"henon_4d_verbose_track_eps_0_0_mu_0_0_id_basic_view.hdf5\""
   ]
  },
  {
   "cell_type": "markdown",
   "id": "separate-examination",
   "metadata": {},
   "source": [
    "## Load Initial conditions"
   ]
  },
  {
   "cell_type": "code",
   "execution_count": 36,
   "id": "recognized-olympus",
   "metadata": {},
   "outputs": [],
   "source": [
    "initial_conditions = h5py.File(os.path.join(inputdir, init_file), mode=\"r\")"
   ]
  },
  {
   "cell_type": "markdown",
   "id": "turkish-supplement",
   "metadata": {},
   "source": [
    "## Long tracking"
   ]
  },
  {
   "cell_type": "code",
   "execution_count": 37,
   "id": "expanded-horse",
   "metadata": {},
   "outputs": [],
   "source": [
    "long_tracking = h5py.File(os.path.join(inputdir, tracking_file), mode=\"r\")"
   ]
  },
  {
   "cell_type": "code",
   "execution_count": 38,
   "id": "suspended-monkey",
   "metadata": {},
   "outputs": [
    {
     "data": {
      "application/vnd.jupyter.widget-view+json": {
       "model_id": "e165dc37206e4dbb930d69f7ab7a97c0",
       "version_major": 2,
       "version_minor": 0
      },
      "text/plain": [
       "Canvas(toolbar=Toolbar(toolitems=[('Home', 'Reset original view', 'home', 'home'), ('Back', 'Back to previous …"
      ]
     },
     "metadata": {},
     "output_type": "display_data"
    }
   ],
   "source": [
    "plt.figure()\n",
    "plt.imshow(np.log10(long_tracking[\"stability_time\"]), origin=\"lower\", extent=[0,1,0,1])\n",
    "\n",
    "plt.xlabel(\"$X_0$\")\n",
    "plt.ylabel(\"$Y_0$\")\n",
    "plt.colorbar(label=\"Stability time $(\\\\log10)$\")\n",
    "plt.title(\"Stability Time Heatmap\")\n",
    "\n",
    "plt.savefig(os.path.join(imgdir, \"henon_4d_stab_time.png\"), dpi=DPI)"
   ]
  },
  {
   "cell_type": "code",
   "execution_count": 39,
   "id": "outdoor-cologne",
   "metadata": {},
   "outputs": [],
   "source": [
    "plt.close(\"all\")"
   ]
  },
  {
   "cell_type": "markdown",
   "id": "outstanding-klein",
   "metadata": {},
   "source": [
    "## Lyapunov"
   ]
  },
  {
   "cell_type": "code",
   "execution_count": 40,
   "id": "tested-cabin",
   "metadata": {},
   "outputs": [],
   "source": [
    "displacement = h5py.File(os.path.join(inputdir, displacement_file), mode='r')"
   ]
  },
  {
   "cell_type": "code",
   "execution_count": 41,
   "id": "imported-pipeline",
   "metadata": {},
   "outputs": [],
   "source": [
    "turn_samples = np.logspace(np.log10(displacement.attrs[\"min_turns\"]), np.log10(displacement.attrs[\"max_turns\"]), displacement.attrs[\"samples\"], dtype=int)"
   ]
  },
  {
   "cell_type": "markdown",
   "id": "killing-wheat",
   "metadata": {},
   "source": [
    "### Basic fast Lyapunov indicator"
   ]
  },
  {
   "cell_type": "code",
   "execution_count": 42,
   "id": "purple-woman",
   "metadata": {},
   "outputs": [],
   "source": [
    "LI = []\n",
    "for t in turn_samples:\n",
    "    sample = displacement[str(t)]\n",
    "    LI.append(np.log10(np.sqrt(\n",
    "        np.power(sample[\"x\"][0] - sample[\"x\"][1], 2) +\n",
    "        np.power(sample[\"px\"][0] - sample[\"px\"][1], 2) +\n",
    "        np.power(sample[\"y\"][0] - sample[\"y\"][1], 2) +\n",
    "        np.power(sample[\"py\"][0] - sample[\"py\"][1], 2)\n",
    "    ) / displacement.attrs[\"displacement\"] ) / t)\n",
    "LI = np.asarray(LI)"
   ]
  },
  {
   "cell_type": "code",
   "execution_count": 53,
   "id": "antique-location",
   "metadata": {},
   "outputs": [
    {
     "data": {
      "application/vnd.jupyter.widget-view+json": {
       "model_id": "21b3e520cec44df1a7edc194695472e3",
       "version_major": 2,
       "version_minor": 0
      },
      "text/plain": [
       "Canvas(toolbar=Toolbar(toolitems=[('Home', 'Reset original view', 'home', 'home'), ('Back', 'Back to previous …"
      ]
     },
     "metadata": {},
     "output_type": "display_data"
    },
    {
     "data": {
      "text/plain": [
       "Text(0, 0.5, '$Y_0$')"
      ]
     },
     "execution_count": 53,
     "metadata": {},
     "output_type": "execute_result"
    }
   ],
   "source": [
    "plt.figure()\n",
    "\n",
    "plt.imshow(LI[-1], origin=\"lower\", extent=[0,1,0,1])\n",
    "plt.colorbar(label=\"Indicator value\")\n",
    "plt.title(\"Fast Lyapunov Indicator $(t={:.2e})$\".format(turn_samples[-1]))\n",
    "\n",
    "plt.xlabel(\"$X_0$\")\n",
    "plt.ylabel(\"$Y_0$\")"
   ]
  },
  {
   "cell_type": "code",
   "execution_count": 62,
   "id": "satisfactory-lodge",
   "metadata": {},
   "outputs": [
    {
     "data": {
      "application/vnd.jupyter.widget-view+json": {
       "model_id": "8c126261aff84c248aaf751982eb570b",
       "version_major": 2,
       "version_minor": 0
      },
      "text/plain": [
       "Canvas(toolbar=Toolbar(toolitems=[('Home', 'Reset original view', 'home', 'home'), ('Back', 'Back to previous …"
      ]
     },
     "metadata": {},
     "output_type": "display_data"
    }
   ],
   "source": [
    "plt.figure()\n",
    "for i, t in enumerate(turn_samples):\n",
    "    plt.imshow(LI[i], origin=\"lower\", extent=[0,1,0,1])\n",
    "    plt.colorbar(label=\"Indicator value\")\n",
    "    plt.title(\"Fast Lyapunov Indicator $(t={:.2e})$\".format(t))\n",
    "\n",
    "    plt.xlabel(\"$X_0$\")\n",
    "    plt.ylabel(\"$Y_0$\")\n",
    "    \n",
    "    plt.savefig(os.path.join(imgdir, \"henon_4d_LI_{}.png\".format(i)), dpi=DPI)\n",
    "    plt.clf() if i != len(turn_samples) - 1 else plt.show()"
   ]
  },
  {
   "cell_type": "markdown",
   "id": "middle-teaching",
   "metadata": {},
   "source": [
    "### Invariant Lyapunov (LEI)"
   ]
  },
  {
   "cell_type": "code",
   "execution_count": 55,
   "id": "stable-assignment",
   "metadata": {},
   "outputs": [],
   "source": [
    "orto_displacement = h5py.File(os.path.join(inputdir, orto_displacement_file), mode='r')"
   ]
  },
  {
   "cell_type": "code",
   "execution_count": 56,
   "id": "adult-background",
   "metadata": {},
   "outputs": [],
   "source": [
    "turn_samples = np.logspace(np.log10(orto_displacement.attrs[\"min_turns\"]), np.log10(orto_displacement.attrs[\"max_turns\"]), orto_displacement.attrs[\"samples\"], dtype=int)"
   ]
  },
  {
   "cell_type": "code",
   "execution_count": 57,
   "id": "available-scanning",
   "metadata": {},
   "outputs": [],
   "source": [
    "sample = orto_displacement[str(turn_samples[-1])]"
   ]
  },
  {
   "cell_type": "code",
   "execution_count": 52,
   "id": "olive-enterprise",
   "metadata": {},
   "outputs": [],
   "source": [
    "LEI_1 = []\n",
    "for t in turn_samples: \n",
    "    sample = orto_displacement[str(t)]\n",
    "\n",
    "    t11 = sample[\"x\"][1] - sample[\"x\"][0]\n",
    "    t12 = sample[\"px\"][1] - sample[\"px\"][0]\n",
    "    t13 = sample[\"y\"][1] - sample[\"y\"][0]\n",
    "    t14 = sample[\"py\"][1] - sample[\"py\"][0]\n",
    "\n",
    "    t21 = sample[\"x\"][2] - sample[\"x\"][0]\n",
    "    t22 = sample[\"px\"][2] - sample[\"px\"][0]\n",
    "    t23 = sample[\"y\"][2] - sample[\"y\"][0]\n",
    "    t24 = sample[\"py\"][2] - sample[\"py\"][0]\n",
    "\n",
    "    t31 = sample[\"x\"][3] - sample[\"x\"][0]\n",
    "    t32 = sample[\"px\"][3] - sample[\"px\"][0]\n",
    "    t33 = sample[\"y\"][3] - sample[\"y\"][0]\n",
    "    t34 = sample[\"py\"][3] - sample[\"py\"][0]\n",
    "\n",
    "    t41 = sample[\"x\"][4] - sample[\"x\"][0]\n",
    "    t42 = sample[\"px\"][4] - sample[\"px\"][0]\n",
    "    t43 = sample[\"y\"][4] - sample[\"y\"][0]\n",
    "    t44 = sample[\"py\"][4] - sample[\"py\"][0]\n",
    "\n",
    "    tm = np.transpose(np.array([\n",
    "            [t11, t12, t13, t14],\n",
    "            [t21, t22, t23, t24],\n",
    "            [t31, t32, t33, t34],\n",
    "            [t41, t42, t43, t44]\n",
    "        ]), axes=(2, 3, 0, 1))\n",
    "    tmt = np.transpose(tm, axes=(0, 1, 3, 2))\n",
    "    \n",
    "    LEI_1.append(np.log10(np.sqrt(np.trace(np.matmul(tmt,tm), axis1=2, axis2=3))/orto_displacement.attrs[\"displacement\"])/t)\n",
    "LEI_1 = np.asarray(LEI_1)"
   ]
  },
  {
   "cell_type": "code",
   "execution_count": 59,
   "id": "atmospheric-filling",
   "metadata": {},
   "outputs": [
    {
     "data": {
      "application/vnd.jupyter.widget-view+json": {
       "model_id": "c01e0854e33349f18a40ca9e93701317",
       "version_major": 2,
       "version_minor": 0
      },
      "text/plain": [
       "Canvas(toolbar=Toolbar(toolitems=[('Home', 'Reset original view', 'home', 'home'), ('Back', 'Back to previous …"
      ]
     },
     "metadata": {},
     "output_type": "display_data"
    },
    {
     "data": {
      "text/plain": [
       "Text(0, 0.5, '$Y_0$')"
      ]
     },
     "execution_count": 59,
     "metadata": {},
     "output_type": "execute_result"
    }
   ],
   "source": [
    "plt.figure()\n",
    "\n",
    "plt.imshow(LEI_1[-1], origin=\"lower\", extent=[0,1,0,1])\n",
    "plt.colorbar(label=\"Indicator value\")\n",
    "plt.title(\"Invariant Lyapunov Indicator $(t={:.2e})$\".format(turn_samples[-1]))\n",
    "\n",
    "plt.xlabel(\"$X_0$\")\n",
    "plt.ylabel(\"$Y_0$\")"
   ]
  },
  {
   "cell_type": "code",
   "execution_count": 61,
   "id": "composite-pressure",
   "metadata": {},
   "outputs": [
    {
     "data": {
      "application/vnd.jupyter.widget-view+json": {
       "model_id": "aa408b1ee81a4b3d94de9579e720f27c",
       "version_major": 2,
       "version_minor": 0
      },
      "text/plain": [
       "Canvas(toolbar=Toolbar(toolitems=[('Home', 'Reset original view', 'home', 'home'), ('Back', 'Back to previous …"
      ]
     },
     "metadata": {},
     "output_type": "display_data"
    }
   ],
   "source": [
    "plt.figure()\n",
    "for i, t in enumerate(turn_samples):\n",
    "    plt.imshow(LEI_1[i], origin=\"lower\", extent=[0,1,0,1])\n",
    "    plt.colorbar(label=\"Indicator value\")\n",
    "    plt.title(\"Invariant Lyapunov Indicator $(t={:.2e})$\".format(t))\n",
    "\n",
    "    plt.xlabel(\"$X_0$\")\n",
    "    plt.ylabel(\"$Y_0$\")\n",
    "    \n",
    "    plt.savefig(os.path.join(imgdir, \"henon_4d_LEI_{}.png\".format(i)), dpi=DPI)\n",
    "    plt.clf() if i != len(turn_samples) - 1 else plt.show()"
   ]
  },
  {
   "cell_type": "code",
   "execution_count": 66,
   "id": "laughing-nylon",
   "metadata": {},
   "outputs": [
    {
     "data": {
      "application/vnd.jupyter.widget-view+json": {
       "model_id": "4426ce3222d64e96a6920759aec24f84",
       "version_major": 2,
       "version_minor": 0
      },
      "text/plain": [
       "Canvas(toolbar=Toolbar(toolitems=[('Home', 'Reset original view', 'home', 'home'), ('Back', 'Back to previous …"
      ]
     },
     "metadata": {},
     "output_type": "display_data"
    },
    {
     "data": {
      "application/vnd.jupyter.widget-view+json": {
       "model_id": "a862520712ed4557aa024cd0f36adc8e",
       "version_major": 2,
       "version_minor": 0
      },
      "text/plain": [
       "  0%|          | 0/101 [00:00<?, ?it/s]"
      ]
     },
     "metadata": {},
     "output_type": "display_data"
    }
   ],
   "source": [
    "plt.figure()\n",
    "for i, t in tqdm(enumerate(turn_samples), total=len(turn_samples)):\n",
    "    plt.scatter(\n",
    "        LI[i].flatten(),\n",
    "        LEI_1[i].flatten(),\n",
    "        s=1, label=\"data\",\n",
    "        c=np.log10(long_tracking[\"stability_time\"]).flatten(), cmap=\"viridis\"\n",
    "    )\n",
    "    plt.plot(\n",
    "        np.linspace(np.nanmin(LI[20]), np.nanmax(LI[20])),\n",
    "        np.linspace(np.nanmin(LI[20]), np.nanmax(LI[20])),\n",
    "        c=\"red\", label=\"$x=y$\", linewidth=1)\n",
    "    plt.colorbar(label=\"Stability time $(\\\\log10)$\")\n",
    "    plt.xlabel(\"Fast Lyapunov\")\n",
    "    plt.ylabel(\"Invariant Lyapunov\")\n",
    "    plt.title(\"Direct comparison between FastLI and LEI $(t={:.2e})$\".format(t))\n",
    "    \n",
    "    plt.savefig(os.path.join(imgdir, \"henon_4d_vs_LI_LEI_{}.png\".format(i)), dpi=DPI)\n",
    "    plt.clf() if i != len(turn_samples) - 1 else plt.show()"
   ]
  },
  {
   "cell_type": "markdown",
   "id": "therapeutic-postage",
   "metadata": {},
   "source": [
    "## Frequency/Tune Analysis"
   ]
  },
  {
   "cell_type": "code",
   "execution_count": 67,
   "id": "traditional-absorption",
   "metadata": {},
   "outputs": [],
   "source": [
    "@njit(parallel=True)\n",
    "def select_indices(l, c, r, data):\n",
    "    p1 = np.empty(len(l), dtype=numba.int32)\n",
    "    p2 = np.empty(len(l), dtype=numba.int32)\n",
    "    vp1 = np.empty(len(l))\n",
    "    vp2 = np.empty(len(l))\n",
    "    for i in prange(data.shape[1]):\n",
    "        if data[l[i], i] > data[r[i], i]:\n",
    "            p1[i] = l[i]\n",
    "            p2[i] = c[i]\n",
    "            vp1[i] = data[p1[i], i]\n",
    "            vp2[i] = data[p2[i], i]\n",
    "        else:\n",
    "            p1[i] = c[i]\n",
    "            p2[i] = r[i]\n",
    "            vp1[i] = data[p1[i], i]\n",
    "            vp2[i] = data[p2[i], i]\n",
    "    return p1, p2, vp1, vp2\n",
    "\n",
    "@njit()\n",
    "def interpolation(data, index):\n",
    "    if np.any(np.isnan(data)):\n",
    "        value = np.nan\n",
    "    elif index == 0:\n",
    "        value = 1\n",
    "    else:\n",
    "        if index == len(data) - 1:\n",
    "            index -= 1\n",
    "        cf1 = np.absolute(data[index - 1])\n",
    "        cf2 = np.absolute(data[index])\n",
    "        cf3 = np.absolute(data[index + 1])\n",
    "        if cf3 > cf1:\n",
    "            p1 = cf2\n",
    "            p2 = cf3\n",
    "            nn = index\n",
    "        else:\n",
    "            p1 = cf1\n",
    "            p2 = cf2\n",
    "            nn = index - 1            \n",
    "        p3 = np.cos(2 * np.pi / len(data))\n",
    "        value = (\n",
    "            (nn / len(data)) + (1/np.pi) * np.arcsin(\n",
    "                np.sin(2*np.pi/len(data)) * \n",
    "                ((-(p1+p2*p3)*(p1-p2) + p2*np.sqrt(p3**2*(p1+p2)**2 - 2*p1*p2*(2*p3**2-p3-1)))/(p1**2 + p2**2 + 2*p1*p2*p3))\n",
    "            )\n",
    "        )\n",
    "    return np.absolute(1 - value)"
   ]
  },
  {
   "cell_type": "code",
   "execution_count": 68,
   "id": "duplicate-actor",
   "metadata": {},
   "outputs": [],
   "source": [
    "full_track = h5py.File(os.path.join(inputdir, full_track_file), mode='r')"
   ]
  },
  {
   "cell_type": "code",
   "execution_count": 69,
   "id": "featured-gasoline",
   "metadata": {},
   "outputs": [],
   "source": [
    "tune_x = np.empty((500,500))\n",
    "tune_y = np.empty((500,500))\n",
    "tune_x1 = np.empty((500,500))\n",
    "tune_y1 = np.empty((500,500))\n",
    "tune_x2 = np.empty((500,500))\n",
    "tune_y2 = np.empty((500,500))"
   ]
  },
  {
   "cell_type": "code",
   "execution_count": 70,
   "id": "preliminary-heavy",
   "metadata": {},
   "outputs": [
    {
     "data": {
      "application/vnd.jupyter.widget-view+json": {
       "model_id": "eee67131edd84fcfb65ad9c460760294",
       "version_major": 2,
       "version_minor": 0
      },
      "text/plain": [
       "  0%|          | 0/500 [00:00<?, ?it/s]"
      ]
     },
     "metadata": {},
     "output_type": "display_data"
    }
   ],
   "source": [
    "for i in tqdm(range(500)):\n",
    "    data_x = full_track[\"coords/x\"][:,i]\n",
    "    data_px = full_track[\"coords/px\"][:,i]\n",
    "    data_y = full_track[\"coords/y\"][:,i]\n",
    "    data_py = full_track[\"coords/py\"][:,i]\n",
    "    for k in range(500):\n",
    "        signal = data_x[:, k] + 1j * data_px[:, k]\n",
    "        fft = np.absolute(np.fft.fft(signal * np.hanning(signal.shape[0])))\n",
    "        value = np.argmax(fft)\n",
    "        value = interpolation(fft, value)\n",
    "        tune_x[i, k] = value\n",
    "        \n",
    "        signal = data_y[:, k] + 1j * data_py[:, k]\n",
    "        fft = np.absolute(np.fft.fft(signal * np.hanning(signal.shape[0])))\n",
    "        value = np.argmax(fft)\n",
    "        value = interpolation(fft, value)\n",
    "        tune_y[i, k] = value\n",
    "        \n",
    "        signal = data_x[:len(data_x)//2, k] + 1j * data_px[:len(data_x)//2, k]\n",
    "        fft = np.absolute(np.fft.fft(signal * np.hanning(signal.shape[0])))\n",
    "        value = np.argmax(fft)\n",
    "        value = interpolation(fft, value)\n",
    "        tune_x1[i, k] = value\n",
    "        \n",
    "        signal = data_y[:len(data_x)//2, k] + 1j * data_py[:len(data_x)//2, k]\n",
    "        fft = np.absolute(np.fft.fft(signal * np.hanning(signal.shape[0])))\n",
    "        value = np.argmax(fft)\n",
    "        value = interpolation(fft, value)\n",
    "        tune_y1[i, k] = value\n",
    "        \n",
    "        signal = data_x[len(data_x)//2:, k] + 1j * data_px[len(data_x)//2:, k]\n",
    "        fft = np.absolute(np.fft.fft(signal * np.hanning(signal.shape[0])))\n",
    "        value = np.argmax(fft)\n",
    "        value = interpolation(fft, value)\n",
    "        tune_x2[i, k] = value\n",
    "        \n",
    "        signal = data_y[len(data_x)//2:, k] + 1j * data_py[len(data_x)//2:, k]\n",
    "        fft = np.absolute(np.fft.fft(signal * np.hanning(signal.shape[0])))\n",
    "        value = np.argmax(fft)\n",
    "        value = interpolation(fft, value)\n",
    "        tune_y2[i, k] = value"
   ]
  },
  {
   "cell_type": "code",
   "execution_count": 72,
   "id": "handmade-pepper",
   "metadata": {},
   "outputs": [
    {
     "data": {
      "application/vnd.jupyter.widget-view+json": {
       "model_id": "67656c3484244689863e1efecf514d6a",
       "version_major": 2,
       "version_minor": 0
      },
      "text/plain": [
       "Canvas(toolbar=Toolbar(toolitems=[('Home', 'Reset original view', 'home', 'home'), ('Back', 'Back to previous …"
      ]
     },
     "metadata": {},
     "output_type": "display_data"
    }
   ],
   "source": [
    "plt.figure()\n",
    "\n",
    "plt.imshow(tune_x, origin=\"lower\", extent=[0,1,0,1])\n",
    "plt.colorbar(label=\"Tune $X$ [$2\\\\pi$ units]\")\n",
    "plt.xlabel(\"$X_0$\")\n",
    "plt.ylabel(\"$Y_0$\")\n",
    "plt.title(\"Tune $X$ heatmap\")\n",
    "\n",
    "plt.savefig(os.path.join(imgdir, \"henon_4d_tunex.png\"), dpi=DPI)"
   ]
  },
  {
   "cell_type": "code",
   "execution_count": 73,
   "id": "operating-madagascar",
   "metadata": {},
   "outputs": [
    {
     "data": {
      "application/vnd.jupyter.widget-view+json": {
       "model_id": "2f8f42eb9fe1473cb142e0192ecf18f8",
       "version_major": 2,
       "version_minor": 0
      },
      "text/plain": [
       "Canvas(toolbar=Toolbar(toolitems=[('Home', 'Reset original view', 'home', 'home'), ('Back', 'Back to previous …"
      ]
     },
     "metadata": {},
     "output_type": "display_data"
    }
   ],
   "source": [
    "plt.figure()\n",
    "\n",
    "plt.imshow(tune_y, origin=\"lower\", extent=[0,1,0,1])\n",
    "plt.colorbar(label=\"Tune $X$ [$2\\\\pi$ units]\")\n",
    "plt.xlabel(\"$X_0$\")\n",
    "plt.ylabel(\"$Y_0$\")\n",
    "plt.title(\"Tune $Y$ heatmap\")\n",
    "\n",
    "plt.savefig(os.path.join(imgdir, \"henon_4d_tuney.png\"), dpi=DPI)"
   ]
  },
  {
   "cell_type": "code",
   "execution_count": 74,
   "id": "numerical-riverside",
   "metadata": {},
   "outputs": [
    {
     "data": {
      "application/vnd.jupyter.widget-view+json": {
       "model_id": "8c8f5544badd46eca395ce3612f3386a",
       "version_major": 2,
       "version_minor": 0
      },
      "text/plain": [
       "Canvas(toolbar=Toolbar(toolitems=[('Home', 'Reset original view', 'home', 'home'), ('Back', 'Back to previous …"
      ]
     },
     "metadata": {},
     "output_type": "display_data"
    },
    {
     "data": {
      "text/plain": [
       "Text(0.5, 1.0, 'Resonance Plot')"
      ]
     },
     "execution_count": 74,
     "metadata": {},
     "output_type": "execute_result"
    }
   ],
   "source": [
    "plt.figure()\n",
    "\n",
    "known_x_tune = 0.168\n",
    "known_y_tune = 0.201\n",
    "\n",
    "min_resonance = 2\n",
    "max_resonance = 6\n",
    "colors = [\"red\", \"blue\", \"green\", \"orange\", \"cyan\"]\n",
    "alpha = 1.0\n",
    "\n",
    "plt.axhline(known_y_tune, color=\"grey\", label=\"known\\imgdirp freq.\")\n",
    "plt.axvline(known_x_tune, color=\"grey\")\n",
    "\n",
    "x = np.linspace(0,1,100)\n",
    "\n",
    "for i in list(range(min_resonance, max_resonance + 1))[::-1]:\n",
    "    for j in range(1, i):\n",
    "        nx = j\n",
    "        ny = i - j\n",
    "        for q in range(0, i+1):\n",
    "            plt.plot(x, q/ny - nx / ny * x,\n",
    "                     color=colors[i-min_resonance], alpha=alpha, zorder=1)\n",
    "            plt.plot(x, q/(-ny) - nx / (-ny) * x,\n",
    "                     color=colors[i-min_resonance], alpha=alpha, zorder=1)\n",
    "            plt.plot(x, q/ny - (-nx) / ny * x,\n",
    "                     color=colors[i-min_resonance], alpha=alpha, zorder=1)\n",
    "            plt.plot(x, q/(-ny) - (-nx) / (-ny) * x,\n",
    "                     color=colors[i-min_resonance], alpha=alpha, zorder=1)\n",
    "    for j in range(i+1):\n",
    "        plt.axvline(j/i, color=colors[i-min_resonance], alpha=alpha, zorder=1) if j != 0 else plt.axvline(\n",
    "            j/i, color=colors[i-min_resonance], label=\"res {}\".format(i), alpha=alpha, zorder=1)\n",
    "        plt.axhline(j/i, color=colors[i-min_resonance], alpha=alpha, zorder=1)\n",
    "\n",
    "plt.scatter(tune_x.flatten(), tune_y.flatten(), s=0.5,\n",
    "            marker=\"x\", c=np.log10(long_tracking[\"stability_time\"]), cmap='viridis', label=\"data\", zorder=1)\n",
    "plt.colorbar(label=\"Stability time (log10)\")\n",
    "        \n",
    "plt.xlim(0,1)\n",
    "plt.ylim(0,1)\n",
    "\n",
    "plt.xlabel(\"tune $x$ [$2\\\\pi$ units]\")\n",
    "plt.ylabel(\"tune $y$ [$2\\\\pi$ units]\")\n",
    "plt.legend(ncol=2)\n",
    "plt.title(\"Resonance Plot\")"
   ]
  },
  {
   "cell_type": "code",
   "execution_count": 31,
   "id": "biological-coordinator",
   "metadata": {},
   "outputs": [
    {
     "data": {
      "application/vnd.jupyter.widget-view+json": {
       "model_id": "e5a9492c3c664f269abcaecb3f7a95c5",
       "version_major": 2,
       "version_minor": 0
      },
      "text/plain": [
       "Canvas(toolbar=Toolbar(toolitems=[('Home', 'Reset original view', 'home', 'home'), ('Back', 'Back to previous …"
      ]
     },
     "metadata": {},
     "output_type": "display_data"
    },
    {
     "data": {
      "text/plain": [
       "<matplotlib.colorbar.Colorbar at 0x7ff0e3f66490>"
      ]
     },
     "execution_count": 31,
     "metadata": {},
     "output_type": "execute_result"
    }
   ],
   "source": [
    "plt.figure()\n",
    "\n",
    "plt.imshow(\n",
    "    np.log10(np.sqrt(np.power(tune_x1 - tune_x2, 2) + np.power(tune_y1 - tune_y2, 2))),\n",
    "    origin=\"lower\"\n",
    ")\n",
    "plt.colorbar()"
   ]
  },
  {
   "cell_type": "code",
   "execution_count": 62,
   "id": "innovative-brake",
   "metadata": {},
   "outputs": [
    {
     "data": {
      "application/vnd.jupyter.widget-view+json": {
       "model_id": "2644abaea414490a858b85796bf1874a",
       "version_major": 2,
       "version_minor": 0
      },
      "text/plain": [
       "Canvas(toolbar=Toolbar(toolitems=[('Home', 'Reset original view', 'home', 'home'), ('Back', 'Back to previous …"
      ]
     },
     "metadata": {},
     "output_type": "display_data"
    },
    {
     "data": {
      "text/plain": [
       "<matplotlib.colorbar.Colorbar at 0x7ff0ea2123d0>"
      ]
     },
     "execution_count": 62,
     "metadata": {},
     "output_type": "execute_result"
    }
   ],
   "source": [
    "plt.figure()\n",
    "plt.scatter(LEI_1[30],  np.log10(np.sqrt(np.power(tune_x1 - tune_x2, 2) + np.power(tune_y1 - tune_y2, 2))), s=1, c=np.log10(long_tracking[\"stability_time\"]).flatten(), cmap=\"viridis\")\n",
    "plt.colorbar()"
   ]
  },
  {
   "cell_type": "code",
   "execution_count": 32,
   "id": "innocent-negotiation",
   "metadata": {},
   "outputs": [
    {
     "data": {
      "application/vnd.jupyter.widget-view+json": {
       "model_id": "daf1acf51e4d42f696806f07e8b120ef",
       "version_major": 2,
       "version_minor": 0
      },
      "text/plain": [
       "Canvas(toolbar=Toolbar(toolitems=[('Home', 'Reset original view', 'home', 'home'), ('Back', 'Back to previous …"
      ]
     },
     "metadata": {},
     "output_type": "display_data"
    },
    {
     "data": {
      "text/plain": [
       "<matplotlib.colorbar.Colorbar at 0x7ff0e3edba00>"
      ]
     },
     "execution_count": 32,
     "metadata": {},
     "output_type": "execute_result"
    }
   ],
   "source": [
    "plt.figure()\n",
    "\n",
    "plt.imshow(\n",
    "    (np.sqrt(np.power(tune_x1 - tune_x2, 2) + np.power(tune_y1 - tune_y2, 2))),\n",
    "    origin=\"lower\"\n",
    ")\n",
    "plt.colorbar()"
   ]
  },
  {
   "cell_type": "code",
   "execution_count": 12,
   "id": "tested-quest",
   "metadata": {},
   "outputs": [],
   "source": [
    "inversion_pure = h5py.File(os.path.join(inputdir, inversion_file), mode='r')\n",
    "inversion_gauss = h5py.File(os.path.join(inputdir, inversion_gauss_file), mode='r')\n",
    "inversion_uniform = h5py.File(os.path.join(inputdir, inversion_uniform_file), mode='r')\n",
    "inversion_gauss_forward = h5py.File(os.path.join(inputdir, inversion_gauss_forward_file), mode='r')\n",
    "inversion_uniform_forward = h5py.File(os.path.join(inputdir, inversion_uniform_forward_file), mode='r')"
   ]
  },
  {
   "cell_type": "code",
   "execution_count": 24,
   "id": "gentle-turning",
   "metadata": {},
   "outputs": [],
   "source": [
    "turn_sampling = np.logspace(np.log10(inversion_pure.attrs[\"min_turns\"]), np.log10(inversion_pure.attrs[\"max_turns\"]), inversion_pure.attrs[\"samples\"], dtype=np.int)"
   ]
  },
  {
   "cell_type": "code",
   "execution_count": 26,
   "id": "equal-evanescence",
   "metadata": {},
   "outputs": [
    {
     "data": {
      "application/vnd.jupyter.widget-view+json": {
       "model_id": "7396463e58bb46b6913765973124c242",
       "version_major": 2,
       "version_minor": 0
      },
      "text/plain": [
       "  0%|          | 0/61 [00:00<?, ?it/s]"
      ]
     },
     "metadata": {},
     "output_type": "display_data"
    }
   ],
   "source": [
    "RE = []\n",
    "RE_U = []\n",
    "RE_G = []\n",
    "RE_U_F = []\n",
    "RE_G_F = []\n",
    "\n",
    "for t in tqdm(turn_sampling):\n",
    "    RE.append(np.sqrt(\n",
    "        + np.power(initial_conditions[\"coords/x\"][...] - inversion_pure[str(t)][\"x\"][...], 2)\n",
    "        + np.power(initial_conditions[\"coords/px\"][...] - inversion_pure[str(t)][\"px\"][...], 2)\n",
    "        + np.power(initial_conditions[\"coords/y\"][...] - inversion_pure[str(t)][\"y\"][...], 2)\n",
    "        + np.power(initial_conditions[\"coords/py\"][...] - inversion_pure[str(t)][\"py\"][...], 2)\n",
    "    ))\n",
    "    RE_U.append(np.sqrt(\n",
    "        + np.power(initial_conditions[\"coords/x\"][...] - inversion_uniform[str(t)][\"x\"][...], 2)\n",
    "        + np.power(initial_conditions[\"coords/px\"][...] - inversion_uniform[str(t)][\"px\"][...], 2)\n",
    "        + np.power(initial_conditions[\"coords/y\"][...] - inversion_uniform[str(t)][\"y\"][...], 2)\n",
    "        + np.power(initial_conditions[\"coords/py\"][...] - inversion_uniform[str(t)][\"py\"][...], 2)\n",
    "    ))\n",
    "    RE_G.append(np.sqrt(\n",
    "        + np.power(initial_conditions[\"coords/x\"][...] - inversion_gauss[str(t)][\"x\"], 2)\n",
    "        + np.power(initial_conditions[\"coords/px\"][...] - inversion_gauss[str(t)][\"px\"], 2)\n",
    "        + np.power(initial_conditions[\"coords/y\"][...] - inversion_gauss[str(t)][\"y\"], 2)\n",
    "        + np.power(initial_conditions[\"coords/py\"][...] - inversion_gauss[str(t)][\"py\"], 2)\n",
    "    ))\n",
    "    RE_U_F.append(np.sqrt(\n",
    "        + np.power(initial_conditions[\"coords/x\"][...] - inversion_uniform_forward[str(t)][\"x\"][...], 2)\n",
    "        + np.power(initial_conditions[\"coords/px\"][...] - inversion_uniform_forward[str(t)][\"px\"][...], 2)\n",
    "        + np.power(initial_conditions[\"coords/y\"][...] - inversion_uniform_forward[str(t)][\"y\"][...], 2)\n",
    "        + np.power(initial_conditions[\"coords/py\"][...] - inversion_uniform_forward[str(t)][\"py\"][...], 2)\n",
    "    ))\n",
    "    RE_G_F.append(np.sqrt(\n",
    "        + np.power(initial_conditions[\"coords/x\"][...] - inversion_gauss_forward[str(t)][\"x\"][...], 2)\n",
    "        + np.power(initial_conditions[\"coords/px\"][...] - inversion_gauss_forward[str(t)][\"px\"][...], 2)\n",
    "        + np.power(initial_conditions[\"coords/y\"][...] - inversion_gauss_forward[str(t)][\"y\"][...], 2)\n",
    "        + np.power(initial_conditions[\"coords/py\"][...] - inversion_gauss_forward[str(t)][\"py\"][...], 2)\n",
    "    ))\n",
    "\n",
    "RE = np.asarray(RE)\n",
    "RE_U = np.asarray(RE_U)\n",
    "RE_G = np.asarray(RE_G)\n",
    "RE_U_F = np.asarray(RE_U_F)\n",
    "RE_G_F = np.asarray(RE_G_F)"
   ]
  },
  {
   "cell_type": "code",
   "execution_count": 29,
   "id": "junior-chocolate",
   "metadata": {},
   "outputs": [
    {
     "data": {
      "application/vnd.jupyter.widget-view+json": {
       "model_id": "1c3fbe9ea30b43c7a2d1f6fc87123191",
       "version_major": 2,
       "version_minor": 0
      },
      "text/plain": [
       "Canvas(toolbar=Toolbar(toolitems=[('Home', 'Reset original view', 'home', 'home'), ('Back', 'Back to previous …"
      ]
     },
     "metadata": {},
     "output_type": "display_data"
    },
    {
     "data": {
      "text/plain": [
       "<matplotlib.colorbar.Colorbar at 0x7fd0225ae610>"
      ]
     },
     "execution_count": 29,
     "metadata": {},
     "output_type": "execute_result"
    }
   ],
   "source": [
    "plt.figure()\n",
    "plt.imshow(np.log10(RE[-1]), origin=\"lower\")\n",
    "plt.colorbar()"
   ]
  },
  {
   "cell_type": "code",
   "execution_count": 49,
   "id": "ahead-procedure",
   "metadata": {},
   "outputs": [
    {
     "data": {
      "application/vnd.jupyter.widget-view+json": {
       "model_id": "c7e645633af0411c9a80f210e8b9f6f1",
       "version_major": 2,
       "version_minor": 0
      },
      "text/plain": [
       "Canvas(toolbar=Toolbar(toolitems=[('Home', 'Reset original view', 'home', 'home'), ('Back', 'Back to previous …"
      ]
     },
     "metadata": {},
     "output_type": "display_data"
    },
    {
     "data": {
      "text/plain": [
       "<matplotlib.colorbar.Colorbar at 0x7fd020c017c0>"
      ]
     },
     "execution_count": 49,
     "metadata": {},
     "output_type": "execute_result"
    }
   ],
   "source": [
    "plt.figure()\n",
    "plt.scatter(np.log10(RE[-1]), LI[-20], s=1, c=np.log10(long_tracking[\"stability_time\"]), cmap=\"viridis\")\n",
    "plt.colorbar()"
   ]
  },
  {
   "cell_type": "code",
   "execution_count": 54,
   "id": "clean-dollar",
   "metadata": {},
   "outputs": [
    {
     "data": {
      "application/vnd.jupyter.widget-view+json": {
       "model_id": "e683ff595c8e4186aa02c01900dd8901",
       "version_major": 2,
       "version_minor": 0
      },
      "text/plain": [
       "Canvas(toolbar=Toolbar(toolitems=[('Home', 'Reset original view', 'home', 'home'), ('Back', 'Back to previous …"
      ]
     },
     "metadata": {},
     "output_type": "display_data"
    },
    {
     "data": {
      "text/plain": [
       "<matplotlib.colorbar.Colorbar at 0x7fd020287c10>"
      ]
     },
     "execution_count": 54,
     "metadata": {},
     "output_type": "execute_result"
    }
   ],
   "source": [
    "plt.figure()\n",
    "plt.scatter(np.log10(RE[-20]), np.log10(RE_U[-20]), s=1, c=np.log10(long_tracking[\"stability_time\"]), cmap=\"viridis\")\n",
    "plt.colorbar()"
   ]
  },
  {
   "cell_type": "code",
   "execution_count": 59,
   "id": "atmospheric-movement",
   "metadata": {},
   "outputs": [
    {
     "data": {
      "application/vnd.jupyter.widget-view+json": {
       "model_id": "b66e72fa4a7243deb7c428b0db6c39c5",
       "version_major": 2,
       "version_minor": 0
      },
      "text/plain": [
       "Canvas(toolbar=Toolbar(toolitems=[('Home', 'Reset original view', 'home', 'home'), ('Back', 'Back to previous …"
      ]
     },
     "metadata": {},
     "output_type": "display_data"
    },
    {
     "data": {
      "text/plain": [
       "<matplotlib.colorbar.Colorbar at 0x7fcff4285100>"
      ]
     },
     "execution_count": 59,
     "metadata": {},
     "output_type": "execute_result"
    }
   ],
   "source": [
    "plt.figure()\n",
    "plt.scatter(np.log10(RE_G[20]), np.log10(RE_U[20]), s=1, c=np.log10(long_tracking[\"stability_time\"]), cmap=\"viridis\")\n",
    "plt.colorbar()"
   ]
  },
  {
   "cell_type": "code",
   "execution_count": null,
   "id": "satisfied-sheriff",
   "metadata": {},
   "outputs": [],
   "source": []
  }
 ],
 "metadata": {
  "kernelspec": {
   "display_name": "Python 3",
   "language": "python",
   "name": "python3"
  },
  "language_info": {
   "codemirror_mode": {
    "name": "ipython",
    "version": 3
   },
   "file_extension": ".py",
   "mimetype": "text/x-python",
   "name": "python",
   "nbconvert_exporter": "python",
   "pygments_lexer": "ipython3",
   "version": "3.8.5"
  }
 },
 "nbformat": 4,
 "nbformat_minor": 5
}
