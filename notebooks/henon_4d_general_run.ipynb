{
 "cells": [
  {
   "cell_type": "markdown",
   "id": "approved-stake",
   "metadata": {},
   "source": [
    "# Notebook for generating Henon 4D data"
   ]
  },
  {
   "cell_type": "markdown",
   "id": "touched-situation",
   "metadata": {},
   "source": [
    "This notebook is meant for internal testing and local data generation.\n",
    "\n",
    "Bigger data generation systems (like for lxplus) are meant to be in the scripts folder."
   ]
  },
  {
   "cell_type": "code",
   "execution_count": 13,
   "id": "younger-duncan",
   "metadata": {},
   "outputs": [],
   "source": [
    "import numpy as np\n",
    "import subprocess\n",
    "import os"
   ]
  },
  {
   "cell_type": "markdown",
   "id": "extreme-cancer",
   "metadata": {},
   "source": [
    "## Parameters"
   ]
  },
  {
   "cell_type": "code",
   "execution_count": 2,
   "id": "desirable-ethnic",
   "metadata": {},
   "outputs": [],
   "source": [
    "outdir = \"../data\"\n",
    "inputdir = \"../data\""
   ]
  },
  {
   "cell_type": "code",
   "execution_count": 6,
   "id": "intimate-dominant",
   "metadata": {},
   "outputs": [],
   "source": [
    "id_main = \"basic_view\"\n",
    "epsilon = 0.0\n",
    "mu = 0.0\n",
    "# Samples per side\n",
    "side_samples = 500\n",
    "# Sampling method\n",
    "method = \"polar\"\n",
    "extents = [0.0, 1.0, 0.0, 1.0, 0.0, 0.0]"
   ]
  },
  {
   "cell_type": "code",
   "execution_count": 25,
   "id": "affecting-cleaning",
   "metadata": {},
   "outputs": [],
   "source": [
    "displacement_magnitude = 1e-14\n",
    "\n",
    "max_turns_long_run = 10000000\n",
    "\n",
    "min_turns = 10\n",
    "max_turns = 1000000\n",
    "turn_samples = 101\n",
    "\n",
    "max_turns_verbose = 1024"
   ]
  },
  {
   "cell_type": "markdown",
   "id": "thrown-recording",
   "metadata": {},
   "source": [
    "## Generate initial conditions"
   ]
  },
  {
   "cell_type": "code",
   "execution_count": 12,
   "id": "average-lighting",
   "metadata": {},
   "outputs": [
    {
     "name": "stdout",
     "output_type": "stream",
     "text": [
      "CPU times: user 799 µs, sys: 4.31 ms, total: 5.11 ms\n",
      "Wall time: 1.03 s\n"
     ]
    },
    {
     "data": {
      "text/plain": [
       "CompletedProcess(args=['python', '../scripts/henon_4d/henon_4d_gen_initial_condition.py', 'basic_view', '0.0', '0.0', '500', 'polar', '0.0', '1.0', '0.0', '1.0', '0.0', '0.0', '-o', '../data'], returncode=0)"
      ]
     },
     "execution_count": 12,
     "metadata": {},
     "output_type": "execute_result"
    }
   ],
   "source": [
    "%%time\n",
    "\n",
    "subprocess.run([\n",
    "    \"python\",\n",
    "    \"../scripts/henon_4d/henon_4d_gen_initial_condition.py\",\n",
    "    str(id_main),\n",
    "    str(epsilon),\n",
    "    str(mu),\n",
    "    str(side_samples),\n",
    "    str(method)] +\n",
    "    [str(a) for a in extents] +\n",
    "    [\"-o\", str(outdir)]\n",
    ")"
   ]
  },
  {
   "cell_type": "code",
   "execution_count": 16,
   "id": "opening-emperor",
   "metadata": {},
   "outputs": [],
   "source": [
    "inputfile = \"henon_4d_init_eps_{:.2}_mu_{:.2}_id_{}\".format(epsilon, mu, id_main).replace(\".\", \"_\") + \".hdf5\""
   ]
  },
  {
   "cell_type": "markdown",
   "id": "educated-expression",
   "metadata": {},
   "source": [
    "## Long Tracking"
   ]
  },
  {
   "cell_type": "code",
   "execution_count": 18,
   "id": "oriental-capital",
   "metadata": {},
   "outputs": [
    {
     "name": "stdout",
     "output_type": "stream",
     "text": [
      "CPU times: user 1.82 ms, sys: 12.7 ms, total: 14.5 ms\n",
      "Wall time: 4min 11s\n"
     ]
    },
    {
     "data": {
      "text/plain": [
       "CompletedProcess(args=['python', '../scripts/henon_4d/henon_4d_long_track.py', '../data/henon_4d_init_eps_0_0_mu_0_0_id_basic_view.hdf5', '10000000'], returncode=0)"
      ]
     },
     "execution_count": 18,
     "metadata": {},
     "output_type": "execute_result"
    }
   ],
   "source": [
    "%%time\n",
    "\n",
    "subprocess.run([\n",
    "    \"python\",\n",
    "    \"../scripts/henon_4d/henon_4d_long_track.py\",\n",
    "    os.path.join(inputdir, inputfile),\n",
    "    str(max_turns_long_run),\n",
    "    \"-o\",\n",
    "    outdir\n",
    "])"
   ]
  },
  {
   "cell_type": "markdown",
   "id": "likely-fifteen",
   "metadata": {},
   "source": [
    "## Single Displacement"
   ]
  },
  {
   "cell_type": "code",
   "execution_count": 20,
   "id": "reliable-struggle",
   "metadata": {},
   "outputs": [],
   "source": [
    "id_secondary = \"1e-14\""
   ]
  },
  {
   "cell_type": "code",
   "execution_count": 21,
   "id": "lonely-ghana",
   "metadata": {},
   "outputs": [
    {
     "name": "stdout",
     "output_type": "stream",
     "text": [
      "CPU times: user 2.93 ms, sys: 12 ms, total: 14.9 ms\n",
      "Wall time: 56.9 s\n"
     ]
    },
    {
     "data": {
      "text/plain": [
       "CompletedProcess(args=['python', '../scripts/henon_4d/henon_4d_track_displacement.py', '../data/henon_4d_init_eps_0_0_mu_0_0_id_basic_view.hdf5', '1000000', '10', '101', '1e-14', '1e-14'], returncode=0)"
      ]
     },
     "execution_count": 21,
     "metadata": {},
     "output_type": "execute_result"
    }
   ],
   "source": [
    "%%time\n",
    "\n",
    "subprocess.run([\n",
    "    \"python\",\n",
    "    \"../scripts/henon_4d/henon_4d_track_displacement.py\",\n",
    "    os.path.join(inputdir, inputfile),\n",
    "    str(max_turns),\n",
    "    str(min_turns),\n",
    "    str(turn_samples),\n",
    "    str(displacement_magnitude),\n",
    "    id_secondary,\n",
    "    \"-o\",\n",
    "    outdir\n",
    "])"
   ]
  },
  {
   "cell_type": "markdown",
   "id": "convinced-large",
   "metadata": {},
   "source": [
    "## Ortonormal Displacement"
   ]
  },
  {
   "cell_type": "code",
   "execution_count": 22,
   "id": "worthy-brush",
   "metadata": {},
   "outputs": [],
   "source": [
    "id_secondary = \"1e-14\""
   ]
  },
  {
   "cell_type": "code",
   "execution_count": 23,
   "id": "initial-sunrise",
   "metadata": {},
   "outputs": [
    {
     "name": "stdout",
     "output_type": "stream",
     "text": [
      "CPU times: user 4.18 ms, sys: 4.63 ms, total: 8.81 ms\n",
      "Wall time: 1min 44s\n"
     ]
    },
    {
     "data": {
      "text/plain": [
       "CompletedProcess(args=['python', '../scripts/henon_4d/henon_4d_track_orto_displacement.py', '../data/henon_4d_init_eps_0_0_mu_0_0_id_basic_view.hdf5', '1000000', '10', '101', '1e-14', '1e-14'], returncode=1)"
      ]
     },
     "execution_count": 23,
     "metadata": {},
     "output_type": "execute_result"
    }
   ],
   "source": [
    "%%time\n",
    "\n",
    "subprocess.run([\n",
    "    \"python\",\n",
    "    \"../scripts/henon_4d/henon_4d_track_orto_displacement.py\",\n",
    "    os.path.join(inputdir, inputfile),\n",
    "    str(max_turns),\n",
    "    str(min_turns),\n",
    "    str(turn_samples),\n",
    "    str(displacement_magnitude),\n",
    "    id_secondary,\n",
    "    \"-o\",\n",
    "    outdir\n",
    "])"
   ]
  },
  {
   "cell_type": "markdown",
   "id": "introductory-anxiety",
   "metadata": {},
   "source": [
    "## Verbose Tracking"
   ]
  },
  {
   "cell_type": "code",
   "execution_count": 26,
   "id": "pending-medium",
   "metadata": {},
   "outputs": [
    {
     "name": "stdout",
     "output_type": "stream",
     "text": [
      "CPU times: user 1.35 ms, sys: 8.21 ms, total: 9.56 ms\n",
      "Wall time: 43 s\n"
     ]
    },
    {
     "data": {
      "text/plain": [
       "CompletedProcess(args=['python', '../scripts/henon_4d/henon_4d_verbose_tracking.py', '../data/henon_4d_init_eps_0_0_mu_0_0_id_basic_view.hdf5', '1024', '-o', '../data'], returncode=0)"
      ]
     },
     "execution_count": 26,
     "metadata": {},
     "output_type": "execute_result"
    }
   ],
   "source": [
    "%%time\n",
    "\n",
    "subprocess.run([\n",
    "    \"python\",\n",
    "    \"../scripts/henon_4d/henon_4d_verbose_tracking.py\",\n",
    "    os.path.join(inputdir, inputfile),\n",
    "    str(max_turns_verbose),\n",
    "    \"-o\",\n",
    "    outdir\n",
    "])"
   ]
  },
  {
   "cell_type": "markdown",
   "id": "nominated-competition",
   "metadata": {},
   "source": [
    "## Pure Inverse Tracking"
   ]
  },
  {
   "cell_type": "code",
   "execution_count": 28,
   "id": "adopted-research",
   "metadata": {},
   "outputs": [],
   "source": [
    "id_secondary = \"no_kick\""
   ]
  },
  {
   "cell_type": "code",
   "execution_count": 31,
   "id": "forward-hungarian",
   "metadata": {},
   "outputs": [
    {
     "name": "stdout",
     "output_type": "stream",
     "text": [
      "CPU times: user 11.8 ms, sys: 9.44 ms, total: 21.2 ms\n",
      "Wall time: 8min 25s\n"
     ]
    },
    {
     "data": {
      "text/plain": [
       "CompletedProcess(args=['python', '../scripts/henon_4d/henon_4d_inverse_tracking.py', '../data/henon_4d_init_eps_0_0_mu_0_0_id_basic_view.hdf5', '10', '1000000', '101', 'false', 'false', '1e-14', '0.0', 'no_kick', '-o', '../data'], returncode=0)"
      ]
     },
     "execution_count": 31,
     "metadata": {},
     "output_type": "execute_result"
    }
   ],
   "source": [
    "%%time\n",
    "\n",
    "subprocess.run([\n",
    "    \"python\",\n",
    "    \"../scripts/henon_4d/henon_4d_inverse_tracking.py\",\n",
    "    os.path.join(inputdir, inputfile),\n",
    "    str(min_turns),\n",
    "    str(max_turns),\n",
    "    str(turn_samples),\n",
    "    \"false\",\n",
    "    \"false\",\n",
    "    str(displacement_magnitude),\n",
    "    str(0.0),\n",
    "    id_secondary,\n",
    "    \"-o\",\n",
    "    outdir\n",
    "])"
   ]
  },
  {
   "cell_type": "markdown",
   "id": "center-conspiracy",
   "metadata": {},
   "source": [
    "## Uniform Noisy Tracking"
   ]
  },
  {
   "cell_type": "code",
   "execution_count": 32,
   "id": "strong-federal",
   "metadata": {},
   "outputs": [],
   "source": [
    "id_secondary = \"unif_kick\""
   ]
  },
  {
   "cell_type": "code",
   "execution_count": null,
   "id": "dental-ceramic",
   "metadata": {},
   "outputs": [],
   "source": [
    "%%time\n",
    "\n",
    "subprocess.run([\n",
    "    \"python\",\n",
    "    \"../scripts/henon_4d/henon_4d_inverse_tracking.py\",\n",
    "    os.path.join(inputdir, inputfile),\n",
    "    str(min_turns),\n",
    "    str(max_turns),\n",
    "    str(turn_samples),\n",
    "    \"true\",\n",
    "    \"true\",\n",
    "    str(displacement_magnitude),\n",
    "    str(0.0),\n",
    "    id_secondary,\n",
    "    \"-o\",\n",
    "    outdir\n",
    "])"
   ]
  },
  {
   "cell_type": "markdown",
   "id": "capital-alert",
   "metadata": {},
   "source": [
    "## Gaussian Noisy Tracking"
   ]
  },
  {
   "cell_type": "code",
   "execution_count": null,
   "id": "changing-fence",
   "metadata": {},
   "outputs": [],
   "source": [
    "displacement_sigma = 1e-15\n",
    "id_secondary = \"gauss_kick\""
   ]
  },
  {
   "cell_type": "code",
   "execution_count": null,
   "id": "realistic-timing",
   "metadata": {},
   "outputs": [],
   "source": [
    "%%time\n",
    "\n",
    "subprocess.run([\n",
    "    \"python\",\n",
    "    \"../scripts/henon_4d/henon_4d_inverse_tracking.py\",\n",
    "    os.path.join(inputdir, inputfile),\n",
    "    str(min_turns),\n",
    "    str(max_turns),\n",
    "    str(turn_samples),\n",
    "    \"true\",\n",
    "    \"true\",\n",
    "    str(displacement_magnitude),\n",
    "    str(displacement_sigma),\n",
    "    id_secondary,\n",
    "    \"-o\",\n",
    "    outdir\n",
    "])"
   ]
  },
  {
   "cell_type": "markdown",
   "id": "union-separation",
   "metadata": {},
   "source": [
    "## Uniform Noisy Tracking (forward only)"
   ]
  },
  {
   "cell_type": "code",
   "execution_count": null,
   "id": "cardiovascular-prompt",
   "metadata": {},
   "outputs": [],
   "source": [
    "id_secondary = \"unif_kick_forward\""
   ]
  },
  {
   "cell_type": "code",
   "execution_count": null,
   "id": "endangered-database",
   "metadata": {},
   "outputs": [],
   "source": [
    "%%time\n",
    "\n",
    "subprocess.run([\n",
    "    \"python\",\n",
    "    \"../scripts/henon_4d/henon_4d_inverse_tracking.py\",\n",
    "    os.path.join(inputdir, inputfile),\n",
    "    str(min_turns),\n",
    "    str(max_turns),\n",
    "    str(turn_samples),\n",
    "    \"true\",\n",
    "    \"false\",\n",
    "    str(displacement_magnitude),\n",
    "    str(0.0),\n",
    "    id_secondary,\n",
    "    \"-o\",\n",
    "    outdir\n",
    "])"
   ]
  },
  {
   "cell_type": "markdown",
   "id": "utility-thought",
   "metadata": {},
   "source": [
    "## Gaussian Noisy Tracking"
   ]
  },
  {
   "cell_type": "code",
   "execution_count": null,
   "id": "extreme-causing",
   "metadata": {},
   "outputs": [],
   "source": [
    "displacement_sigma = 1e-15\n",
    "id_secondary = \"gauss_kick_forward\""
   ]
  },
  {
   "cell_type": "code",
   "execution_count": null,
   "id": "informative-funds",
   "metadata": {},
   "outputs": [],
   "source": [
    "%%time\n",
    "\n",
    "subprocess.run([\n",
    "    \"python\",\n",
    "    \"../scripts/henon_4d/henon_4d_inverse_tracking.py\",\n",
    "    os.path.join(inputdir, inputfile),\n",
    "    str(min_turns),\n",
    "    str(max_turns),\n",
    "    str(turn_samples),\n",
    "    \"true\",\n",
    "    \"false\",\n",
    "    str(displacement_magnitude),\n",
    "    str(displacement_sigma),\n",
    "    id_secondary,\n",
    "    \"-o\",\n",
    "    outdir\n",
    "])"
   ]
  },
  {
   "cell_type": "code",
   "execution_count": null,
   "id": "blessed-familiar",
   "metadata": {},
   "outputs": [],
   "source": []
  }
 ],
 "metadata": {
  "kernelspec": {
   "display_name": "Python 3",
   "language": "python",
   "name": "python3"
  },
  "language_info": {
   "codemirror_mode": {
    "name": "ipython",
    "version": 3
   },
   "file_extension": ".py",
   "mimetype": "text/x-python",
   "name": "python",
   "nbconvert_exporter": "python",
   "pygments_lexer": "ipython3",
   "version": "3.8.5"
  }
 },
 "nbformat": 4,
 "nbformat_minor": 5
}
