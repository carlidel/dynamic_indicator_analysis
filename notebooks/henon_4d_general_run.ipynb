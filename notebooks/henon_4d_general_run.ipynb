{
 "cells": [
  {
   "cell_type": "markdown",
   "metadata": {},
   "source": [
    "# Notebook for generating Henon 4D data"
   ]
  },
  {
   "cell_type": "markdown",
   "metadata": {},
   "source": [
    "This notebook is meant for internal testing and local data generation.\n",
    "\n",
    "Bigger data generation systems (like for lxplus) are meant to be in the scripts folder."
   ]
  },
  {
   "cell_type": "code",
   "execution_count": 1,
   "metadata": {},
   "outputs": [],
   "source": [
    "import numpy as np\n",
    "import subprocess\n",
    "import os"
   ]
  },
  {
   "cell_type": "markdown",
   "metadata": {},
   "source": [
    "## Parameters"
   ]
  },
  {
   "cell_type": "code",
   "execution_count": 2,
   "metadata": {},
   "outputs": [],
   "source": [
    "scriptdir = \"../scripts/henon_4d\"\n",
    "outdir = \"../data\"\n",
    "inputdir = \"../data\""
   ]
  },
  {
   "cell_type": "code",
   "execution_count": null,
   "metadata": {},
   "outputs": [],
   "source": [
    "epsilon = 0.0\n",
    "mu = 0.0"
   ]
  },
  {
   "cell_type": "code",
   "execution_count": null,
   "metadata": {},
   "outputs": [],
   "source": [
    "epsilon = 1.0\n",
    "mu = 0.0"
   ]
  },
  {
   "cell_type": "code",
   "execution_count": null,
   "metadata": {},
   "outputs": [],
   "source": [
    "epsilon = 16.0\n",
    "mu = 0.0"
   ]
  },
  {
   "cell_type": "code",
   "execution_count": null,
   "metadata": {},
   "outputs": [],
   "source": [
    "epsilon = 64.0\n",
    "mu = 0.0"
   ]
  },
  {
   "cell_type": "code",
   "execution_count": null,
   "metadata": {},
   "outputs": [],
   "source": [
    "epsilon = 0.0\n",
    "mu = 0.2"
   ]
  },
  {
   "cell_type": "code",
   "execution_count": null,
   "metadata": {},
   "outputs": [],
   "source": [
    "epsilon = 1.0\n",
    "mu = 0.2"
   ]
  },
  {
   "cell_type": "code",
   "execution_count": null,
   "metadata": {},
   "outputs": [],
   "source": [
    "epsilon = 16.0\n",
    "mu = 0.2"
   ]
  },
  {
   "cell_type": "code",
   "execution_count": null,
   "metadata": {},
   "outputs": [],
   "source": [
    "epsilon = 64.0\n",
    "mu = 0.2"
   ]
  },
  {
   "cell_type": "code",
   "execution_count": null,
   "metadata": {},
   "outputs": [],
   "source": [
    "epsilon = 0.0\n",
    "mu = -0.2"
   ]
  },
  {
   "cell_type": "code",
   "execution_count": null,
   "metadata": {},
   "outputs": [],
   "source": [
    "epsilon = 1.0\n",
    "mu = -0.2"
   ]
  },
  {
   "cell_type": "code",
   "execution_count": null,
   "metadata": {},
   "outputs": [],
   "source": [
    "epsilon = 16.0\n",
    "mu = -0.2"
   ]
  },
  {
   "cell_type": "code",
   "execution_count": null,
   "metadata": {},
   "outputs": [],
   "source": [
    "epsilon = 64.0\n",
    "mu = -0.2"
   ]
  },
  {
   "cell_type": "code",
   "execution_count": null,
   "metadata": {},
   "outputs": [],
   "source": [
    "epsilon = 0.0\n",
    "mu = 1.0"
   ]
  },
  {
   "cell_type": "code",
   "execution_count": null,
   "metadata": {},
   "outputs": [],
   "source": [
    "epsilon = 1.0\n",
    "mu = 1.0"
   ]
  },
  {
   "cell_type": "code",
   "execution_count": null,
   "metadata": {},
   "outputs": [],
   "source": [
    "epsilon = 16.0\n",
    "mu = 1.0"
   ]
  },
  {
   "cell_type": "code",
   "execution_count": null,
   "metadata": {},
   "outputs": [],
   "source": [
    "epsilon = 64.0\n",
    "mu = 1.0"
   ]
  },
  {
   "cell_type": "code",
   "execution_count": null,
   "metadata": {},
   "outputs": [],
   "source": [
    "epsilon = 0.0\n",
    "mu = -1.0"
   ]
  },
  {
   "cell_type": "code",
   "execution_count": null,
   "metadata": {},
   "outputs": [],
   "source": [
    "epsilon = 1.0\n",
    "mu = -1.0"
   ]
  },
  {
   "cell_type": "code",
   "execution_count": null,
   "metadata": {},
   "outputs": [],
   "source": [
    "epsilon = 16.0\n",
    "mu = -1.0"
   ]
  },
  {
   "cell_type": "code",
   "execution_count": null,
   "metadata": {},
   "outputs": [],
   "source": [
    "epsilon = 64.0\n",
    "mu = -1.0"
   ]
  },
  {
   "cell_type": "code",
   "execution_count": 3,
   "metadata": {},
   "outputs": [],
   "source": [
    "id_main = \"basic_view\"\n",
    "# Samples per side\n",
    "side_samples = 500\n",
    "# Sampling method\n",
    "method = \"polar\"\n",
    "extents = [0.0, 1.0, 0.0, 1.0, 0.0, 0.0]"
   ]
  },
  {
   "cell_type": "code",
   "execution_count": 4,
   "metadata": {},
   "outputs": [],
   "source": [
    "displacement_magnitude = 1e-12\n",
    "displacement_sigma = 1e-13\n",
    "\n",
    "max_turns_long_run = 10000000\n",
    "\n",
    "min_turns = 10\n",
    "max_turns = 100000\n",
    "turn_samples = 51\n",
    "\n",
    "#max_turns_verbose = 1024\n",
    "\n",
    "tau = 100\n",
    "\n",
    "fft_min_power = 8\n",
    "fft_max_power = 14"
   ]
  },
  {
   "cell_type": "markdown",
   "metadata": {},
   "source": [
    "## Generate initial conditions"
   ]
  },
  {
   "cell_type": "code",
   "execution_count": 5,
   "metadata": {},
   "outputs": [
    {
     "name": "stdout",
     "output_type": "stream",
     "text": [
      "CPU times: user 0 ns, sys: 2.93 ms, total: 2.93 ms\n",
      "Wall time: 1.01 s\n"
     ]
    },
    {
     "data": {
      "text/plain": [
       "CompletedProcess(args=['python', '../scripts/henon_4d/henon_4d_gen_initial_condition.py', 'basic_view', '0.0', '0.0', '500', 'polar', '0.0', '1.0', '0.0', '1.0', '0.0', '0.0', '-o', '../data'], returncode=0)"
      ]
     },
     "execution_count": 5,
     "metadata": {},
     "output_type": "execute_result"
    }
   ],
   "source": [
    "%%time\n",
    "\n",
    "subprocess.run([\n",
    "    \"python\",\n",
    "    os.path.join(scriptdir, \"henon_4d_gen_initial_condition.py\"),\n",
    "    str(id_main),\n",
    "    str(epsilon),\n",
    "    str(mu),\n",
    "    str(side_samples),\n",
    "    str(method)] +\n",
    "    [str(a) for a in extents] +\n",
    "    [\"-o\", str(outdir)]\n",
    ")"
   ]
  },
  {
   "cell_type": "code",
   "execution_count": 6,
   "metadata": {},
   "outputs": [],
   "source": [
    "inputfile = \"henon_4d_init_eps_{:.2}_mu_{:.2}_id_{}\".format(epsilon, mu, id_main).replace(\".\", \"_\") + \".hdf5\""
   ]
  },
  {
   "cell_type": "markdown",
   "metadata": {},
   "source": [
    "## Long Tracking"
   ]
  },
  {
   "cell_type": "code",
   "execution_count": 7,
   "metadata": {},
   "outputs": [
    {
     "name": "stdout",
     "output_type": "stream",
     "text": [
      "CPU times: user 5.95 ms, sys: 5.01 ms, total: 11 ms\n",
      "Wall time: 4min 12s\n"
     ]
    },
    {
     "data": {
      "text/plain": [
       "CompletedProcess(args=['python', '../scripts/henon_4d/henon_4d_long_track.py', '../data/henon_4d_init_eps_0_0_mu_0_0_id_basic_view.hdf5', '10000000', '-o', '../data'], returncode=0)"
      ]
     },
     "execution_count": 7,
     "metadata": {},
     "output_type": "execute_result"
    }
   ],
   "source": [
    "%%time\n",
    "\n",
    "subprocess.run([\n",
    "    \"python\",\n",
    "    os.path.join(scriptdir, \"henon_4d_long_track.py\"),\n",
    "    os.path.join(inputdir, inputfile),\n",
    "    str(max_turns_long_run),\n",
    "    \"-o\",\n",
    "    outdir\n",
    "])"
   ]
  },
  {
   "cell_type": "markdown",
   "metadata": {},
   "source": [
    "## Long Tracking (with kicks)"
   ]
  },
  {
   "cell_type": "code",
   "execution_count": 8,
   "metadata": {},
   "outputs": [
    {
     "name": "stdout",
     "output_type": "stream",
     "text": [
      "CPU times: user 19.8 ms, sys: 6.77 ms, total: 26.5 ms\n",
      "Wall time: 14min 26s\n"
     ]
    },
    {
     "data": {
      "text/plain": [
       "CompletedProcess(args=['python', '../scripts/henon_4d/henon_4d_long_track_wkick.py', '../data/henon_4d_init_eps_0_0_mu_0_0_id_basic_view.hdf5', '10000000', '1e-08', '1e-8', '-o', '../data'], returncode=0)"
      ]
     },
     "execution_count": 8,
     "metadata": {},
     "output_type": "execute_result"
    }
   ],
   "source": [
    "%%time\n",
    "\n",
    "subprocess.run([\n",
    "    \"python\",\n",
    "    os.path.join(scriptdir, \"henon_4d_long_track_wkick.py\"),\n",
    "    os.path.join(inputdir, inputfile),\n",
    "    str(max_turns_long_run),\n",
    "    str(1e-8),\n",
    "    \"1e-8\",\n",
    "    \"-o\",\n",
    "    outdir\n",
    "])"
   ]
  },
  {
   "cell_type": "markdown",
   "metadata": {},
   "source": [
    "## Long Tracking (with kicks)"
   ]
  },
  {
   "cell_type": "code",
   "execution_count": 9,
   "metadata": {},
   "outputs": [
    {
     "name": "stdout",
     "output_type": "stream",
     "text": [
      "CPU times: user 21.6 ms, sys: 3.17 ms, total: 24.8 ms\n",
      "Wall time: 14min 24s\n"
     ]
    },
    {
     "data": {
      "text/plain": [
       "CompletedProcess(args=['python', '../scripts/henon_4d/henon_4d_long_track_wkick.py', '../data/henon_4d_init_eps_0_0_mu_0_0_id_basic_view.hdf5', '10000000', '1e-12', '1e-12', '-o', '../data'], returncode=0)"
      ]
     },
     "execution_count": 9,
     "metadata": {},
     "output_type": "execute_result"
    }
   ],
   "source": [
    "%%time\n",
    "\n",
    "subprocess.run([\n",
    "    \"python\",\n",
    "    os.path.join(scriptdir, \"henon_4d_long_track_wkick.py\"),\n",
    "    os.path.join(inputdir, inputfile),\n",
    "    str(max_turns_long_run),\n",
    "    str(1e-12),\n",
    "    \"1e-12\",\n",
    "    \"-o\",\n",
    "    outdir\n",
    "])"
   ]
  },
  {
   "cell_type": "markdown",
   "metadata": {},
   "source": [
    "## Long Tracking (with kicks)"
   ]
  },
  {
   "cell_type": "code",
   "execution_count": 43,
   "metadata": {},
   "outputs": [
    {
     "name": "stdout",
     "output_type": "stream",
     "text": [
      "CPU times: user 11.7 ms, sys: 12.2 ms, total: 23.9 ms\n",
      "Wall time: 14min 15s\n"
     ]
    },
    {
     "data": {
      "text/plain": [
       "CompletedProcess(args=['python', '../scripts/henon_4d/henon_4d_long_track_wkick.py', '../data/henon_4d_init_eps_0_0_mu_0_0_id_basic_view.hdf5', '10000000', '1e-06', '1e-6', '-o', '../data'], returncode=0)"
      ]
     },
     "execution_count": 43,
     "metadata": {},
     "output_type": "execute_result"
    }
   ],
   "source": [
    "%%time\n",
    "\n",
    "subprocess.run([\n",
    "    \"python\",\n",
    "    os.path.join(scriptdir, \"henon_4d_long_track_wkick.py\"),\n",
    "    os.path.join(inputdir, inputfile),\n",
    "    str(max_turns_long_run),\n",
    "    str(1e-6),\n",
    "    \"1e-6\",\n",
    "    \"-o\",\n",
    "    outdir\n",
    "])"
   ]
  },
  {
   "cell_type": "markdown",
   "metadata": {},
   "source": [
    "## Single Displacement"
   ]
  },
  {
   "cell_type": "code",
   "execution_count": 11,
   "metadata": {},
   "outputs": [],
   "source": [
    "id_secondary = \"{:.0e}\".format(displacement_magnitude)"
   ]
  },
  {
   "cell_type": "code",
   "execution_count": 12,
   "metadata": {},
   "outputs": [
    {
     "name": "stdout",
     "output_type": "stream",
     "text": [
      "CPU times: user 4.31 ms, sys: 0 ns, total: 4.31 ms\n",
      "Wall time: 11.1 s\n"
     ]
    },
    {
     "data": {
      "text/plain": [
       "CompletedProcess(args=['python', '../scripts/henon_4d/henon_4d_track_displacement.py', '../data/henon_4d_init_eps_0_0_mu_0_0_id_basic_view.hdf5', '10', '100000', '51', '1e-14', '1e-14', '-o', '../data'], returncode=0)"
      ]
     },
     "execution_count": 12,
     "metadata": {},
     "output_type": "execute_result"
    }
   ],
   "source": [
    "%%time\n",
    "\n",
    "subprocess.run([\n",
    "    \"python\",\n",
    "    os.path.join(scriptdir, \"henon_4d_track_displacement.py\"),\n",
    "    os.path.join(inputdir, inputfile),\n",
    "    str(min_turns),\n",
    "    str(max_turns),\n",
    "    str(turn_samples),\n",
    "    str(displacement_magnitude),\n",
    "    id_secondary,\n",
    "    \"-o\",\n",
    "    outdir\n",
    "])"
   ]
  },
  {
   "cell_type": "markdown",
   "metadata": {},
   "source": [
    "## Ortonormal Displacement"
   ]
  },
  {
   "cell_type": "code",
   "execution_count": 13,
   "metadata": {},
   "outputs": [],
   "source": [
    "id_secondary = \"{:.0e}\".format(displacement_magnitude)"
   ]
  },
  {
   "cell_type": "code",
   "execution_count": 14,
   "metadata": {},
   "outputs": [
    {
     "name": "stdout",
     "output_type": "stream",
     "text": [
      "CPU times: user 2.27 ms, sys: 426 µs, total: 2.69 ms\n",
      "Wall time: 19.6 s\n"
     ]
    },
    {
     "data": {
      "text/plain": [
       "CompletedProcess(args=['python', '../scripts/henon_4d/henon_4d_track_orto_displacement.py', '../data/henon_4d_init_eps_0_0_mu_0_0_id_basic_view.hdf5', '10', '100000', '51', '1e-14', '1e-14', '-o', '../data'], returncode=0)"
      ]
     },
     "execution_count": 14,
     "metadata": {},
     "output_type": "execute_result"
    }
   ],
   "source": [
    "%%time\n",
    "\n",
    "subprocess.run([\n",
    "    \"python\",\n",
    "    os.path.join(scriptdir, \"henon_4d_track_orto_displacement.py\"),\n",
    "    os.path.join(inputdir, inputfile),\n",
    "    str(min_turns),\n",
    "    str(max_turns),\n",
    "    str(turn_samples),\n",
    "    str(displacement_magnitude),\n",
    "    id_secondary,\n",
    "    \"-o\",\n",
    "    outdir\n",
    "])"
   ]
  },
  {
   "cell_type": "markdown",
   "metadata": {},
   "source": [
    "## Pure Inverse Tracking"
   ]
  },
  {
   "cell_type": "code",
   "execution_count": 16,
   "metadata": {},
   "outputs": [],
   "source": [
    "id_secondary = \"no_kick\""
   ]
  },
  {
   "cell_type": "code",
   "execution_count": 17,
   "metadata": {},
   "outputs": [
    {
     "name": "stdout",
     "output_type": "stream",
     "text": [
      "CPU times: user 3 ms, sys: 547 µs, total: 3.55 ms\n",
      "Wall time: 41.7 s\n"
     ]
    },
    {
     "data": {
      "text/plain": [
       "CompletedProcess(args=['python', '../scripts/henon_4d/henon_4d_inverse_tracking.py', '../data/henon_4d_init_eps_0_0_mu_0_0_id_basic_view.hdf5', '10', '100000', '51', 'false', 'false', '1e-14', '0.0', 'no_kick', '-o', '../data'], returncode=0)"
      ]
     },
     "execution_count": 17,
     "metadata": {},
     "output_type": "execute_result"
    }
   ],
   "source": [
    "%%time\n",
    "\n",
    "subprocess.run([\n",
    "    \"python\",\n",
    "    os.path.join(scriptdir, \"henon_4d_inverse_tracking.py\"),\n",
    "    os.path.join(inputdir, inputfile),\n",
    "    str(min_turns),\n",
    "    str(max_turns),\n",
    "    str(turn_samples),\n",
    "    \"false\",\n",
    "    \"false\",\n",
    "    str(displacement_magnitude),\n",
    "    str(0.0),\n",
    "    id_secondary,\n",
    "    \"-o\",\n",
    "    outdir\n",
    "])"
   ]
  },
  {
   "cell_type": "markdown",
   "metadata": {},
   "source": [
    "## Uniform Noisy Tracking"
   ]
  },
  {
   "cell_type": "code",
   "execution_count": 18,
   "metadata": {},
   "outputs": [],
   "source": [
    "id_secondary = \"unif_kick\""
   ]
  },
  {
   "cell_type": "code",
   "execution_count": 19,
   "metadata": {},
   "outputs": [
    {
     "name": "stdout",
     "output_type": "stream",
     "text": [
      "CPU times: user 571 µs, sys: 5.13 ms, total: 5.7 ms\n",
      "Wall time: 2min 19s\n"
     ]
    },
    {
     "data": {
      "text/plain": [
       "CompletedProcess(args=['python', '../scripts/henon_4d/henon_4d_inverse_tracking.py', '../data/henon_4d_init_eps_0_0_mu_0_0_id_basic_view.hdf5', '10', '100000', '51', 'true', 'true', '1e-14', '0.0', 'unif_kick', '-o', '../data'], returncode=0)"
      ]
     },
     "execution_count": 19,
     "metadata": {},
     "output_type": "execute_result"
    }
   ],
   "source": [
    "%%time\n",
    "\n",
    "subprocess.run([\n",
    "    \"python\",\n",
    "    os.path.join(scriptdir, \"henon_4d_inverse_tracking.py\"),\n",
    "    os.path.join(inputdir, inputfile),\n",
    "    str(min_turns),\n",
    "    str(max_turns),\n",
    "    str(turn_samples),\n",
    "    \"true\",\n",
    "    \"true\",\n",
    "    str(displacement_magnitude),\n",
    "    str(0.0),\n",
    "    id_secondary,\n",
    "    \"-o\",\n",
    "    outdir\n",
    "])"
   ]
  },
  {
   "cell_type": "markdown",
   "metadata": {},
   "source": [
    "## Gaussian Noisy Tracking"
   ]
  },
  {
   "cell_type": "code",
   "execution_count": 20,
   "metadata": {},
   "outputs": [],
   "source": [
    "id_secondary = \"gauss_kick\""
   ]
  },
  {
   "cell_type": "code",
   "execution_count": 21,
   "metadata": {},
   "outputs": [
    {
     "name": "stdout",
     "output_type": "stream",
     "text": [
      "CPU times: user 5.63 ms, sys: 1.12 ms, total: 6.75 ms\n",
      "Wall time: 2min 34s\n"
     ]
    },
    {
     "data": {
      "text/plain": [
       "CompletedProcess(args=['python', '../scripts/henon_4d/henon_4d_inverse_tracking.py', '../data/henon_4d_init_eps_0_0_mu_0_0_id_basic_view.hdf5', '10', '100000', '51', 'true', 'true', '1e-14', '1e-15', 'gauss_kick', '-o', '../data'], returncode=0)"
      ]
     },
     "execution_count": 21,
     "metadata": {},
     "output_type": "execute_result"
    }
   ],
   "source": [
    "%%time\n",
    "\n",
    "subprocess.run([\n",
    "    \"python\",\n",
    "    os.path.join(scriptdir, \"henon_4d_inverse_tracking.py\"),\n",
    "    os.path.join(inputdir, inputfile),\n",
    "    str(min_turns),\n",
    "    str(max_turns),\n",
    "    str(turn_samples),\n",
    "    \"true\",\n",
    "    \"true\",\n",
    "    str(displacement_magnitude),\n",
    "    str(displacement_sigma),\n",
    "    id_secondary,\n",
    "    \"-o\",\n",
    "    outdir\n",
    "])"
   ]
  },
  {
   "cell_type": "markdown",
   "metadata": {},
   "source": [
    "## Uniform Noisy Tracking (forward only)"
   ]
  },
  {
   "cell_type": "code",
   "execution_count": 22,
   "metadata": {},
   "outputs": [],
   "source": [
    "id_secondary = \"unif_kick_forward\""
   ]
  },
  {
   "cell_type": "code",
   "execution_count": 23,
   "metadata": {},
   "outputs": [
    {
     "name": "stdout",
     "output_type": "stream",
     "text": [
      "CPU times: user 4.76 ms, sys: 0 ns, total: 4.76 ms\n",
      "Wall time: 1min 33s\n"
     ]
    },
    {
     "data": {
      "text/plain": [
       "CompletedProcess(args=['python', '../scripts/henon_4d/henon_4d_inverse_tracking.py', '../data/henon_4d_init_eps_0_0_mu_0_0_id_basic_view.hdf5', '10', '100000', '51', 'true', 'false', '1e-14', '0.0', 'unif_kick_forward', '-o', '../data'], returncode=0)"
      ]
     },
     "execution_count": 23,
     "metadata": {},
     "output_type": "execute_result"
    }
   ],
   "source": [
    "%%time\n",
    "\n",
    "subprocess.run([\n",
    "    \"python\",\n",
    "    os.path.join(scriptdir, \"henon_4d_inverse_tracking.py\"),\n",
    "    os.path.join(inputdir, inputfile),\n",
    "    str(min_turns),\n",
    "    str(max_turns),\n",
    "    str(turn_samples),\n",
    "    \"true\",\n",
    "    \"false\",\n",
    "    str(displacement_magnitude),\n",
    "    str(0.0),\n",
    "    id_secondary,\n",
    "    \"-o\",\n",
    "    outdir\n",
    "])"
   ]
  },
  {
   "cell_type": "markdown",
   "metadata": {},
   "source": [
    "## Gaussian Noisy Tracking (forward only)"
   ]
  },
  {
   "cell_type": "code",
   "execution_count": 24,
   "metadata": {},
   "outputs": [],
   "source": [
    "id_secondary = \"gauss_kick_forward\""
   ]
  },
  {
   "cell_type": "code",
   "execution_count": 25,
   "metadata": {},
   "outputs": [
    {
     "name": "stdout",
     "output_type": "stream",
     "text": [
      "CPU times: user 4.28 ms, sys: 842 µs, total: 5.12 ms\n",
      "Wall time: 1min 41s\n"
     ]
    },
    {
     "data": {
      "text/plain": [
       "CompletedProcess(args=['python', '../scripts/henon_4d/henon_4d_inverse_tracking.py', '../data/henon_4d_init_eps_0_0_mu_0_0_id_basic_view.hdf5', '10', '100000', '51', 'true', 'false', '1e-14', '1e-15', 'gauss_kick_forward', '-o', '../data'], returncode=0)"
      ]
     },
     "execution_count": 25,
     "metadata": {},
     "output_type": "execute_result"
    }
   ],
   "source": [
    "%%time\n",
    "\n",
    "subprocess.run([\n",
    "    \"python\",\n",
    "    os.path.join(scriptdir, \"henon_4d_inverse_tracking.py\"),\n",
    "    os.path.join(inputdir, inputfile),\n",
    "    str(min_turns),\n",
    "    str(max_turns),\n",
    "    str(turn_samples),\n",
    "    \"true\",\n",
    "    \"false\",\n",
    "    str(displacement_magnitude),\n",
    "    str(displacement_sigma),\n",
    "    id_secondary,\n",
    "    \"-o\",\n",
    "    outdir\n",
    "])"
   ]
  },
  {
   "cell_type": "markdown",
   "metadata": {},
   "source": [
    "## Megno"
   ]
  },
  {
   "cell_type": "code",
   "execution_count": 41,
   "metadata": {},
   "outputs": [],
   "source": [
    "id_secondary = \"{:.0e}\".format(displacement_magnitude)"
   ]
  },
  {
   "cell_type": "code",
   "execution_count": 42,
   "metadata": {},
   "outputs": [
    {
     "name": "stdout",
     "output_type": "stream",
     "text": [
      "CPU times: user 71.3 ms, sys: 22.5 ms, total: 93.8 ms\n",
      "Wall time: 58min 7s\n"
     ]
    },
    {
     "data": {
      "text/plain": [
       "CompletedProcess(args=['python', '../scripts/henon_4d/henon_4d_megno.py', '../data/henon_4d_init_eps_0_0_mu_0_0_id_basic_view.hdf5', '10', '100000', '51', '1e-14', '1e-14', '-o', '../data'], returncode=0)"
      ]
     },
     "execution_count": 42,
     "metadata": {},
     "output_type": "execute_result"
    }
   ],
   "source": [
    "%%time\n",
    "\n",
    "subprocess.run([\n",
    "    \"python\",\n",
    "    os.path.join(scriptdir, \"henon_4d_megno.py\"),\n",
    "    os.path.join(inputdir, inputfile),\n",
    "    str(min_turns),\n",
    "    str(max_turns),\n",
    "    str(turn_samples),\n",
    "    str(displacement_magnitude),\n",
    "    id_secondary,\n",
    "    \"-o\",\n",
    "    outdir\n",
    "])"
   ]
  },
  {
   "cell_type": "markdown",
   "metadata": {},
   "source": [
    "## Sali"
   ]
  },
  {
   "cell_type": "code",
   "execution_count": 32,
   "metadata": {},
   "outputs": [],
   "source": [
    "id_secondary = \"{:.0e}\".format(displacement_magnitude)"
   ]
  },
  {
   "cell_type": "code",
   "execution_count": 33,
   "metadata": {},
   "outputs": [
    {
     "name": "stdout",
     "output_type": "stream",
     "text": [
      "CPU times: user 0 ns, sys: 3.71 ms, total: 3.71 ms\n",
      "Wall time: 27.8 s\n"
     ]
    },
    {
     "data": {
      "text/plain": [
       "CompletedProcess(args=['python', '../scripts/henon_4d/henon_4d_sali.py', '../data/henon_4d_init_eps_0_0_mu_0_0_id_basic_view.hdf5', '10', '100000', '51', '1e-14', '100', '1e-14', '-o', '../data'], returncode=0)"
      ]
     },
     "execution_count": 33,
     "metadata": {},
     "output_type": "execute_result"
    }
   ],
   "source": [
    "%%time\n",
    "\n",
    "subprocess.run([\n",
    "    \"python\",\n",
    "    os.path.join(scriptdir, \"henon_4d_sali.py\"),\n",
    "    os.path.join(inputdir, inputfile),\n",
    "    str(min_turns),\n",
    "    str(max_turns),\n",
    "    str(turn_samples),\n",
    "    str(displacement_magnitude),\n",
    "    str(tau),\n",
    "    id_secondary,\n",
    "    \"-o\",\n",
    "    outdir\n",
    "])"
   ]
  },
  {
   "cell_type": "markdown",
   "metadata": {},
   "source": [
    "## Gali"
   ]
  },
  {
   "cell_type": "code",
   "execution_count": 39,
   "metadata": {},
   "outputs": [],
   "source": [
    "id_secondary = \"{:.0e}\".format(displacement_magnitude)"
   ]
  },
  {
   "cell_type": "code",
   "execution_count": 40,
   "metadata": {},
   "outputs": [
    {
     "name": "stdout",
     "output_type": "stream",
     "text": [
      "CPU times: user 17.6 ms, sys: 469 µs, total: 18 ms\n",
      "Wall time: 9min 39s\n"
     ]
    },
    {
     "data": {
      "text/plain": [
       "CompletedProcess(args=['python', '../scripts/henon_4d/henon_4d_gali.py', '../data/henon_4d_init_eps_0_0_mu_0_0_id_basic_view.hdf5', '10', '100000', '51', '1e-14', '100', '1e-14', '-o', '../data'], returncode=0)"
      ]
     },
     "execution_count": 40,
     "metadata": {},
     "output_type": "execute_result"
    }
   ],
   "source": [
    "%%time\n",
    "\n",
    "subprocess.run([\n",
    "    \"python\",\n",
    "    os.path.join(scriptdir, \"henon_4d_gali.py\"),\n",
    "    os.path.join(inputdir, inputfile),\n",
    "    str(min_turns),\n",
    "    str(max_turns),\n",
    "    str(turn_samples),\n",
    "    str(displacement_magnitude),\n",
    "    str(tau),\n",
    "    id_secondary,\n",
    "    \"-o\",\n",
    "    outdir\n",
    "])"
   ]
  },
  {
   "cell_type": "markdown",
   "metadata": {},
   "source": [
    "## FFT computation"
   ]
  },
  {
   "cell_type": "code",
   "execution_count": null,
   "metadata": {},
   "outputs": [],
   "source": [
    "%%time\n",
    "\n",
    "subprocess.run([\n",
    "    \"python\",\n",
    "    os.path.join(scriptdir, \"henon_4d_fft_tracking.py\"),\n",
    "    os.path.join(inputdir, inputfile),\n",
    "    str(fft_min_power),\n",
    "    str(fft_max_power),\n",
    "    \"-ncores\",\n",
    "    str(1024),\n",
    "    \"-o\",\n",
    "    outdir\n",
    "])"
   ]
  }
 ],
 "metadata": {
  "kernelspec": {
   "display_name": "Python 3",
   "language": "python",
   "name": "python3"
  },
  "language_info": {
   "codemirror_mode": {
    "name": "ipython",
    "version": 3
   },
   "file_extension": ".py",
   "mimetype": "text/x-python",
   "name": "python",
   "nbconvert_exporter": "python",
   "pygments_lexer": "ipython3",
   "version": "3.8.3"
  }
 },
 "nbformat": 4,
 "nbformat_minor": 5
}
