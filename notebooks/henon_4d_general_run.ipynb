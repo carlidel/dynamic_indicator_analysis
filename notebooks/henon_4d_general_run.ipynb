{
 "cells": [
  {
   "cell_type": "markdown",
   "id": "front-reviewer",
   "metadata": {},
   "source": [
    "# Notebook for generating Henon 4D data"
   ]
  },
  {
   "cell_type": "markdown",
   "id": "industrial-auditor",
   "metadata": {},
   "source": [
    "This notebook is meant for internal testing and local data generation.\n",
    "\n",
    "Bigger data generation systems (like for lxplus) are meant to be in the scripts folder."
   ]
  },
  {
   "cell_type": "code",
   "execution_count": 2,
   "id": "convenient-theory",
   "metadata": {},
   "outputs": [],
   "source": [
    "import numpy as np\n",
    "import subprocess\n",
    "import os"
   ]
  },
  {
   "cell_type": "markdown",
   "id": "unlike-architecture",
   "metadata": {},
   "source": [
    "## Parameters"
   ]
  },
  {
   "cell_type": "code",
   "execution_count": 3,
   "id": "progressive-designation",
   "metadata": {},
   "outputs": [],
   "source": [
    "outdir = \"../data\"\n",
    "inputdir = \"../data\""
   ]
  },
  {
   "cell_type": "code",
   "execution_count": 4,
   "id": "tested-resistance",
   "metadata": {},
   "outputs": [],
   "source": [
    "id_main = \"basic_view\"\n",
    "epsilon = 0.0\n",
    "mu = 0.0\n",
    "# Samples per side\n",
    "side_samples = 500\n",
    "# Sampling method\n",
    "method = \"polar\"\n",
    "extents = [0.0, 1.0, 0.0, 1.0, 0.0, 0.0]"
   ]
  },
  {
   "cell_type": "code",
   "execution_count": 5,
   "id": "latest-court",
   "metadata": {},
   "outputs": [],
   "source": [
    "displacement_magnitude = 1e-14\n",
    "\n",
    "max_turns_long_run = 10000000\n",
    "\n",
    "min_turns = 10\n",
    "max_turns = 1000000\n",
    "turn_samples = 101\n",
    "\n",
    "max_turns_verbose = 1024"
   ]
  },
  {
   "cell_type": "markdown",
   "id": "reported-flower",
   "metadata": {},
   "source": [
    "## Generate initial conditions"
   ]
  },
  {
   "cell_type": "code",
   "execution_count": 5,
   "id": "associate-truth",
   "metadata": {},
   "outputs": [
    {
     "name": "stdout",
     "output_type": "stream",
     "text": [
      "CPU times: user 1.49 ms, sys: 3.9 ms, total: 5.39 ms\n",
      "Wall time: 1.74 s\n"
     ]
    },
    {
     "data": {
      "text/plain": [
       "CompletedProcess(args=['python', '../scripts/henon_4d/henon_4d_gen_initial_condition.py', 'basic_view', '0.0', '0.0', '500', 'polar', '0.0', '1.0', '0.0', '1.0', '0.0', '0.0', '-o', '../data'], returncode=0)"
      ]
     },
     "execution_count": 5,
     "metadata": {},
     "output_type": "execute_result"
    }
   ],
   "source": [
    "%%time\n",
    "\n",
    "subprocess.run([\n",
    "    \"python\",\n",
    "    \"../scripts/henon_4d/henon_4d_gen_initial_condition.py\",\n",
    "    str(id_main),\n",
    "    str(epsilon),\n",
    "    str(mu),\n",
    "    str(side_samples),\n",
    "    str(method)] +\n",
    "    [str(a) for a in extents] +\n",
    "    [\"-o\", str(outdir)]\n",
    ")"
   ]
  },
  {
   "cell_type": "code",
   "execution_count": 8,
   "id": "worthy-diving",
   "metadata": {},
   "outputs": [],
   "source": [
    "inputfile = \"henon_4d_init_eps_{:.2}_mu_{:.2}_id_{}\".format(epsilon, mu, id_main).replace(\".\", \"_\") + \".hdf5\""
   ]
  },
  {
   "cell_type": "markdown",
   "id": "leading-sheffield",
   "metadata": {},
   "source": [
    "## Long Tracking"
   ]
  },
  {
   "cell_type": "code",
   "execution_count": 18,
   "id": "urban-budapest",
   "metadata": {},
   "outputs": [
    {
     "name": "stdout",
     "output_type": "stream",
     "text": [
      "CPU times: user 1.82 ms, sys: 12.7 ms, total: 14.5 ms\n",
      "Wall time: 4min 11s\n"
     ]
    },
    {
     "data": {
      "text/plain": [
       "CompletedProcess(args=['python', '../scripts/henon_4d/henon_4d_long_track.py', '../data/henon_4d_init_eps_0_0_mu_0_0_id_basic_view.hdf5', '10000000'], returncode=0)"
      ]
     },
     "execution_count": 18,
     "metadata": {},
     "output_type": "execute_result"
    }
   ],
   "source": [
    "%%time\n",
    "\n",
    "subprocess.run([\n",
    "    \"python\",\n",
    "    \"../scripts/henon_4d/henon_4d_long_track.py\",\n",
    "    os.path.join(inputdir, inputfile),\n",
    "    str(max_turns_long_run),\n",
    "    \"-o\",\n",
    "    outdir\n",
    "])"
   ]
  },
  {
   "cell_type": "markdown",
   "id": "suited-coordinator",
   "metadata": {},
   "source": [
    "## Single Displacement"
   ]
  },
  {
   "cell_type": "code",
   "execution_count": 6,
   "id": "young-drove",
   "metadata": {},
   "outputs": [],
   "source": [
    "id_secondary = \"1e-14\""
   ]
  },
  {
   "cell_type": "code",
   "execution_count": 9,
   "id": "systematic-crest",
   "metadata": {},
   "outputs": [
    {
     "name": "stdout",
     "output_type": "stream",
     "text": [
      "CPU times: user 4.28 ms, sys: 513 µs, total: 4.8 ms\n",
      "Wall time: 55 s\n"
     ]
    },
    {
     "data": {
      "text/plain": [
       "CompletedProcess(args=['python', '../scripts/henon_4d/henon_4d_track_displacement.py', '../data/henon_4d_init_eps_0_0_mu_0_0_id_basic_view.hdf5', '10', '1000000', '101', '1e-14', '1e-14', '-o', '../data'], returncode=0)"
      ]
     },
     "execution_count": 9,
     "metadata": {},
     "output_type": "execute_result"
    }
   ],
   "source": [
    "%%time\n",
    "\n",
    "subprocess.run([\n",
    "    \"python\",\n",
    "    \"../scripts/henon_4d/henon_4d_track_displacement.py\",\n",
    "    os.path.join(inputdir, inputfile),\n",
    "    str(min_turns),\n",
    "    str(max_turns),\n",
    "    str(turn_samples),\n",
    "    str(displacement_magnitude),\n",
    "    id_secondary,\n",
    "    \"-o\",\n",
    "    outdir\n",
    "])"
   ]
  },
  {
   "cell_type": "markdown",
   "id": "ordered-camera",
   "metadata": {},
   "source": [
    "## Ortonormal Displacement"
   ]
  },
  {
   "cell_type": "code",
   "execution_count": 12,
   "id": "celtic-columbus",
   "metadata": {},
   "outputs": [],
   "source": [
    "id_secondary = \"1e-14\""
   ]
  },
  {
   "cell_type": "code",
   "execution_count": 13,
   "id": "geological-twist",
   "metadata": {},
   "outputs": [
    {
     "name": "stdout",
     "output_type": "stream",
     "text": [
      "CPU times: user 4.03 ms, sys: 8.47 ms, total: 12.5 ms\n",
      "Wall time: 2min 11s\n"
     ]
    },
    {
     "data": {
      "text/plain": [
       "CompletedProcess(args=['python', '../scripts/henon_4d/henon_4d_track_orto_displacement.py', '../data/henon_4d_init_eps_0_0_mu_0_0_id_basic_view.hdf5', '10', '1000000', '101', '1e-14', '1e-14', '-o', '../data'], returncode=0)"
      ]
     },
     "execution_count": 13,
     "metadata": {},
     "output_type": "execute_result"
    }
   ],
   "source": [
    "%%time\n",
    "\n",
    "subprocess.run([\n",
    "    \"python\",\n",
    "    \"../scripts/henon_4d/henon_4d_track_orto_displacement.py\",\n",
    "    os.path.join(inputdir, inputfile),\n",
    "    str(min_turns),\n",
    "    str(max_turns),\n",
    "    str(turn_samples),\n",
    "    str(displacement_magnitude),\n",
    "    id_secondary,\n",
    "    \"-o\",\n",
    "    outdir\n",
    "])"
   ]
  },
  {
   "cell_type": "markdown",
   "id": "adjacent-sleeve",
   "metadata": {},
   "source": [
    "## Verbose Tracking"
   ]
  },
  {
   "cell_type": "code",
   "execution_count": 33,
   "id": "critical-battery",
   "metadata": {},
   "outputs": [
    {
     "name": "stdout",
     "output_type": "stream",
     "text": [
      "CPU times: user 0 ns, sys: 3.33 ms, total: 3.33 ms\n",
      "Wall time: 30.5 s\n"
     ]
    },
    {
     "data": {
      "text/plain": [
       "CompletedProcess(args=['python', '../scripts/henon_4d/henon_4d_verbose_tracking.py', '../data/henon_4d_init_eps_0_0_mu_0_0_id_basic_view.hdf5', '1024', '-o', '../data'], returncode=0)"
      ]
     },
     "execution_count": 33,
     "metadata": {},
     "output_type": "execute_result"
    }
   ],
   "source": [
    "%%time\n",
    "\n",
    "subprocess.run([\n",
    "    \"python\",\n",
    "    \"../scripts/henon_4d/henon_4d_verbose_tracking.py\",\n",
    "    os.path.join(inputdir, inputfile),\n",
    "    str(max_turns_verbose),\n",
    "    \"-o\",\n",
    "    outdir\n",
    "])"
   ]
  },
  {
   "cell_type": "markdown",
   "id": "outside-stockholm",
   "metadata": {},
   "source": [
    "## From here... I have to reduce the sampling..."
   ]
  },
  {
   "cell_type": "code",
   "execution_count": 21,
   "id": "equal-arctic",
   "metadata": {},
   "outputs": [],
   "source": [
    "min_turns = 10\n",
    "max_turns = 100000\n",
    "turn_samples = 61"
   ]
  },
  {
   "cell_type": "markdown",
   "id": "preceding-foundation",
   "metadata": {},
   "source": [
    "## Pure Inverse Tracking"
   ]
  },
  {
   "cell_type": "code",
   "execution_count": 22,
   "id": "handed-chance",
   "metadata": {},
   "outputs": [],
   "source": [
    "id_secondary = \"no_kick\""
   ]
  },
  {
   "cell_type": "code",
   "execution_count": 23,
   "id": "false-rachel",
   "metadata": {},
   "outputs": [
    {
     "name": "stdout",
     "output_type": "stream",
     "text": [
      "CPU times: user 6.3 ms, sys: 4.61 ms, total: 10.9 ms\n",
      "Wall time: 48.7 s\n"
     ]
    },
    {
     "data": {
      "text/plain": [
       "CompletedProcess(args=['python', '../scripts/henon_4d/henon_4d_inverse_tracking.py', '../data/henon_4d_init_eps_0_0_mu_0_0_id_basic_view.hdf5', '10', '100000', '61', 'false', 'false', '1e-14', '0.0', 'no_kick', '-o', '../data'], returncode=0)"
      ]
     },
     "execution_count": 23,
     "metadata": {},
     "output_type": "execute_result"
    }
   ],
   "source": [
    "%%time\n",
    "\n",
    "subprocess.run([\n",
    "    \"python\",\n",
    "    \"../scripts/henon_4d/henon_4d_inverse_tracking.py\",\n",
    "    os.path.join(inputdir, inputfile),\n",
    "    str(min_turns),\n",
    "    str(max_turns),\n",
    "    str(turn_samples),\n",
    "    \"false\",\n",
    "    \"false\",\n",
    "    str(displacement_magnitude),\n",
    "    str(0.0),\n",
    "    id_secondary,\n",
    "    \"-o\",\n",
    "    outdir\n",
    "])"
   ]
  },
  {
   "cell_type": "markdown",
   "id": "public-martial",
   "metadata": {},
   "source": [
    "## Uniform Noisy Tracking"
   ]
  },
  {
   "cell_type": "code",
   "execution_count": 24,
   "id": "neural-deputy",
   "metadata": {},
   "outputs": [],
   "source": [
    "id_secondary = \"unif_kick\""
   ]
  },
  {
   "cell_type": "code",
   "execution_count": 25,
   "id": "cross-affairs",
   "metadata": {},
   "outputs": [
    {
     "name": "stdout",
     "output_type": "stream",
     "text": [
      "CPU times: user 2.62 ms, sys: 3.35 ms, total: 5.97 ms\n",
      "Wall time: 2min 28s\n"
     ]
    },
    {
     "data": {
      "text/plain": [
       "CompletedProcess(args=['python', '../scripts/henon_4d/henon_4d_inverse_tracking.py', '../data/henon_4d_init_eps_0_0_mu_0_0_id_basic_view.hdf5', '10', '100000', '61', 'true', 'true', '1e-14', '0.0', 'unif_kick', '-o', '../data'], returncode=0)"
      ]
     },
     "execution_count": 25,
     "metadata": {},
     "output_type": "execute_result"
    }
   ],
   "source": [
    "%%time\n",
    "\n",
    "subprocess.run([\n",
    "    \"python\",\n",
    "    \"../scripts/henon_4d/henon_4d_inverse_tracking.py\",\n",
    "    os.path.join(inputdir, inputfile),\n",
    "    str(min_turns),\n",
    "    str(max_turns),\n",
    "    str(turn_samples),\n",
    "    \"true\",\n",
    "    \"true\",\n",
    "    str(displacement_magnitude),\n",
    "    str(0.0),\n",
    "    id_secondary,\n",
    "    \"-o\",\n",
    "    outdir\n",
    "])"
   ]
  },
  {
   "cell_type": "markdown",
   "id": "transsexual-procurement",
   "metadata": {},
   "source": [
    "## Gaussian Noisy Tracking"
   ]
  },
  {
   "cell_type": "code",
   "execution_count": 26,
   "id": "chronic-frequency",
   "metadata": {},
   "outputs": [],
   "source": [
    "displacement_sigma = 1e-15\n",
    "id_secondary = \"gauss_kick\""
   ]
  },
  {
   "cell_type": "code",
   "execution_count": 27,
   "id": "computational-wound",
   "metadata": {},
   "outputs": [
    {
     "name": "stdout",
     "output_type": "stream",
     "text": [
      "CPU times: user 7.44 ms, sys: 518 µs, total: 7.96 ms\n",
      "Wall time: 3min 31s\n"
     ]
    },
    {
     "data": {
      "text/plain": [
       "CompletedProcess(args=['python', '../scripts/henon_4d/henon_4d_inverse_tracking.py', '../data/henon_4d_init_eps_0_0_mu_0_0_id_basic_view.hdf5', '10', '100000', '61', 'true', 'true', '1e-14', '1e-15', 'gauss_kick', '-o', '../data'], returncode=0)"
      ]
     },
     "execution_count": 27,
     "metadata": {},
     "output_type": "execute_result"
    }
   ],
   "source": [
    "%%time\n",
    "\n",
    "subprocess.run([\n",
    "    \"python\",\n",
    "    \"../scripts/henon_4d/henon_4d_inverse_tracking.py\",\n",
    "    os.path.join(inputdir, inputfile),\n",
    "    str(min_turns),\n",
    "    str(max_turns),\n",
    "    str(turn_samples),\n",
    "    \"true\",\n",
    "    \"true\",\n",
    "    str(displacement_magnitude),\n",
    "    str(displacement_sigma),\n",
    "    id_secondary,\n",
    "    \"-o\",\n",
    "    outdir\n",
    "])"
   ]
  },
  {
   "cell_type": "markdown",
   "id": "green-august",
   "metadata": {},
   "source": [
    "## Uniform Noisy Tracking (forward only)"
   ]
  },
  {
   "cell_type": "code",
   "execution_count": 28,
   "id": "mental-strike",
   "metadata": {},
   "outputs": [],
   "source": [
    "id_secondary = \"unif_kick_forward\""
   ]
  },
  {
   "cell_type": "code",
   "execution_count": 29,
   "id": "operational-tucson",
   "metadata": {},
   "outputs": [
    {
     "name": "stdout",
     "output_type": "stream",
     "text": [
      "CPU times: user 3.9 ms, sys: 655 µs, total: 4.56 ms\n",
      "Wall time: 1min 42s\n"
     ]
    },
    {
     "data": {
      "text/plain": [
       "CompletedProcess(args=['python', '../scripts/henon_4d/henon_4d_inverse_tracking.py', '../data/henon_4d_init_eps_0_0_mu_0_0_id_basic_view.hdf5', '10', '100000', '61', 'true', 'false', '1e-14', '0.0', 'unif_kick_forward', '-o', '../data'], returncode=0)"
      ]
     },
     "execution_count": 29,
     "metadata": {},
     "output_type": "execute_result"
    }
   ],
   "source": [
    "%%time\n",
    "\n",
    "subprocess.run([\n",
    "    \"python\",\n",
    "    \"../scripts/henon_4d/henon_4d_inverse_tracking.py\",\n",
    "    os.path.join(inputdir, inputfile),\n",
    "    str(min_turns),\n",
    "    str(max_turns),\n",
    "    str(turn_samples),\n",
    "    \"true\",\n",
    "    \"false\",\n",
    "    str(displacement_magnitude),\n",
    "    str(0.0),\n",
    "    id_secondary,\n",
    "    \"-o\",\n",
    "    outdir\n",
    "])"
   ]
  },
  {
   "cell_type": "markdown",
   "id": "median-robin",
   "metadata": {},
   "source": [
    "## Gaussian Noisy Tracking"
   ]
  },
  {
   "cell_type": "code",
   "execution_count": 30,
   "id": "separate-powell",
   "metadata": {},
   "outputs": [],
   "source": [
    "displacement_sigma = 1e-15\n",
    "id_secondary = \"gauss_kick_forward\""
   ]
  },
  {
   "cell_type": "code",
   "execution_count": 31,
   "id": "advised-equilibrium",
   "metadata": {},
   "outputs": [
    {
     "name": "stdout",
     "output_type": "stream",
     "text": [
      "CPU times: user 1.57 ms, sys: 4.61 ms, total: 6.18 ms\n",
      "Wall time: 2min 15s\n"
     ]
    },
    {
     "data": {
      "text/plain": [
       "CompletedProcess(args=['python', '../scripts/henon_4d/henon_4d_inverse_tracking.py', '../data/henon_4d_init_eps_0_0_mu_0_0_id_basic_view.hdf5', '10', '100000', '61', 'true', 'false', '1e-14', '1e-15', 'gauss_kick_forward', '-o', '../data'], returncode=0)"
      ]
     },
     "execution_count": 31,
     "metadata": {},
     "output_type": "execute_result"
    }
   ],
   "source": [
    "%%time\n",
    "\n",
    "subprocess.run([\n",
    "    \"python\",\n",
    "    \"../scripts/henon_4d/henon_4d_inverse_tracking.py\",\n",
    "    os.path.join(inputdir, inputfile),\n",
    "    str(min_turns),\n",
    "    str(max_turns),\n",
    "    str(turn_samples),\n",
    "    \"true\",\n",
    "    \"false\",\n",
    "    str(displacement_magnitude),\n",
    "    str(displacement_sigma),\n",
    "    id_secondary,\n",
    "    \"-o\",\n",
    "    outdir\n",
    "])"
   ]
  },
  {
   "cell_type": "code",
   "execution_count": null,
   "id": "surface-accused",
   "metadata": {},
   "outputs": [],
   "source": []
  }
 ],
 "metadata": {
  "kernelspec": {
   "display_name": "Python 3",
   "language": "python",
   "name": "python3"
  },
  "language_info": {
   "codemirror_mode": {
    "name": "ipython",
    "version": 3
   },
   "file_extension": ".py",
   "mimetype": "text/x-python",
   "name": "python",
   "nbconvert_exporter": "python",
   "pygments_lexer": "ipython3",
   "version": "3.8.5"
  }
 },
 "nbformat": 4,
 "nbformat_minor": 5
}
